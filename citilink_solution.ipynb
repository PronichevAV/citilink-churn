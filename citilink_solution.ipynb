{
 "cells": [
  {
   "cell_type": "markdown",
   "metadata": {
    "id": "FH0ZYdNyQzug",
    "pycharm": {
     "name": "#%% md\n"
    }
   },
   "source": [
    "## Загрузим нужные библиотеки"
   ]
  },
  {
   "cell_type": "code",
   "execution_count": 114,
   "metadata": {
    "id": "BwNGqMidQiRi",
    "pycharm": {
     "name": "#%%\n"
    }
   },
   "outputs": [],
   "source": [
    "import numpy as np\n",
    "import pandas as pd\n",
    "from sklearn.metrics import recall_score\n",
    "from sklearn.model_selection import train_test_split\n",
    "import torch\n",
    "\n",
    "from lightautoml.automl.presets.tabular_presets import TabularAutoML, TabularUtilizedAutoML\n",
    "from lightautoml.tasks import Task"
   ]
  },
  {
   "cell_type": "code",
   "execution_count": 20,
   "metadata": {
    "pycharm": {
     "name": "#%%\n"
    }
   },
   "outputs": [],
   "source": [
    "N_THREADS = 20\n",
    "N_FOLDS = 5\n",
    "RANDOM_STATE = 42\n",
    "TIMEOUT = 300\n",
    "TARGET_NAME = 'blocked'"
   ]
  },
  {
   "cell_type": "code",
   "execution_count": 21,
   "metadata": {
    "pycharm": {
     "name": "#%%\n"
    }
   },
   "outputs": [],
   "source": [
    "np.random.seed(RANDOM_STATE)\n",
    "torch.set_num_threads(N_THREADS)"
   ]
  },
  {
   "cell_type": "code",
   "execution_count": 22,
   "metadata": {
    "id": "3TZUcuZ33rM5",
    "pycharm": {
     "name": "#%%\n"
    }
   },
   "outputs": [],
   "source": [
    "df_train = pd.read_csv(\"data/train_dataset_train.csv\")\n",
    "df_sample_solution = pd.read_csv(\"data/sample_solution.csv\")\n",
    "\n",
    "df_named = pd.read_csv(\"data/named.csv\")\n",
    "df_type_contract = pd.read_csv(\"data/type_contract.csv\")\n",
    "df_log = pd.read_csv(\"data/log.csv\")"
   ]
  },
  {
   "cell_type": "code",
   "execution_count": 23,
   "metadata": {
    "pycharm": {
     "name": "#%%\n"
    }
   },
   "outputs": [],
   "source": [
    "df_test = df_sample_solution[['contract_id']].copy()"
   ]
  },
  {
   "cell_type": "code",
   "execution_count": 24,
   "metadata": {
    "pycharm": {
     "name": "#%%\n"
    }
   },
   "outputs": [],
   "source": [
    "def extract_domain(input_url: str) -> str:\n",
    "    if 'sampo.ru' in input_url and 'rt.ru' in input_url:\n",
    "        return 'both'\n",
    "    elif 'sampo.ru' in input_url:\n",
    "        return 'sampo.ru'\n",
    "    elif 'rt.ru' in input_url:\n",
    "        return 'rt.ru'\n",
    "    else:\n",
    "        return 'other'"
   ]
  },
  {
   "cell_type": "code",
   "execution_count": 25,
   "metadata": {
    "pycharm": {
     "name": "#%%\n"
    }
   },
   "outputs": [],
   "source": [
    "df_named['url'] = df_named['url'].apply(extract_domain).astype('category')\n",
    "df_named['date'] = pd.to_datetime(df_named['date'])\n",
    "max_date_click = df_named['date'].max()\n",
    "click_features = df_named.groupby(by=['contract_id', 'url']).count().unstack().droplevel(level=0, axis=1).reset_index().fillna(0).astype('int')\n",
    "\n",
    "last_click_df = df_named[['contract_id', 'date']].groupby(by='contract_id').max().reset_index().rename(columns={'date': 'last_click'})\n",
    "last_click_df['last_click'] = last_click_df['last_click'].apply(lambda x: (max_date_click - x).days).fillna(-1)\n",
    "\n",
    "click_features = click_features \\\n",
    "    .merge(last_click_df[['last_click', 'contract_id']], on='contract_id', how='left')\n",
    "click_features['total_clicks'] = click_features['rt.ru'] + click_features['sampo.ru']"
   ]
  },
  {
   "cell_type": "code",
   "execution_count": 26,
   "metadata": {
    "pycharm": {
     "name": "#%%\n"
    }
   },
   "outputs": [],
   "source": [
    "df_log['event_type'] = df_log['event_type'].astype('category').cat.codes\n",
    "df_log['event_type'] = 'log_' + df_log['event_type'].astype(str)\n",
    "log_features = df_log.groupby(by=['contract_id', 'event_type']).count().unstack().droplevel(level=0, axis=1).reset_index().fillna(0).astype('int')\n",
    "\n",
    "event_total_df = df_log[['contract_id', 'event_type']].groupby(by=['contract_id']).count().reset_index().rename(columns={'event_type': 'event_total'}).fillna(0)\n",
    "\n",
    "df_log['event_date'] = pd.to_datetime(df_log['event_date'])\n",
    "max_date = df_log['event_date'].max()\n",
    "\n",
    "last_ev_df = df_log[['contract_id', 'event_date']].groupby(by='contract_id').max().reset_index().rename(columns={'event_date': 'last_event'})\n",
    "first_ev_df = df_log[['contract_id', 'event_date']].groupby(by='contract_id').min().reset_index().rename(columns={'event_date': 'first_event'})\n",
    "\n",
    "first_ev_df['time_between_first'] = first_ev_df['first_event'].apply(lambda x: (max_date - x).days).fillna(-1)\n",
    "last_ev_df['time_between_last'] = last_ev_df['last_event'].apply(lambda x: (max_date - x).days).fillna(-1)\n",
    "\n",
    "log_features = log_features \\\n",
    "    .merge(event_total_df, on='contract_id', how='left') \\\n",
    "    .merge(first_ev_df[['contract_id', 'time_between_first']], on='contract_id', how='left') \\\n",
    "    .merge(last_ev_df[['contract_id', 'time_between_last']], on='contract_id', how='left')"
   ]
  },
  {
   "cell_type": "code",
   "execution_count": 27,
   "metadata": {
    "pycharm": {
     "name": "#%%\n"
    }
   },
   "outputs": [],
   "source": [
    "df_train = df_train \\\n",
    "    .merge(log_features, on='contract_id', how='left') \\\n",
    "    .merge(click_features, on='contract_id', how='left') \\\n",
    "    .merge(df_type_contract, on='contract_id', how='left')\n",
    "    \n",
    "df_test = df_test \\\n",
    "    .merge(log_features, on='contract_id', how='left') \\\n",
    "    .merge(click_features, on='contract_id', how='left') \\\n",
    "    .merge(df_type_contract, on='contract_id', how='left')"
   ]
  },
  {
   "cell_type": "code",
   "execution_count": 28,
   "metadata": {
    "pycharm": {
     "name": "#%%\n"
    }
   },
   "outputs": [
    {
     "data": {
      "text/html": [
       "<div>\n",
       "<style scoped>\n",
       "    .dataframe tbody tr th:only-of-type {\n",
       "        vertical-align: middle;\n",
       "    }\n",
       "\n",
       "    .dataframe tbody tr th {\n",
       "        vertical-align: top;\n",
       "    }\n",
       "\n",
       "    .dataframe thead th {\n",
       "        text-align: right;\n",
       "    }\n",
       "</style>\n",
       "<table border=\"1\" class=\"dataframe\">\n",
       "  <thead>\n",
       "    <tr style=\"text-align: right;\">\n",
       "      <th></th>\n",
       "      <th>contract_id</th>\n",
       "      <th>blocked</th>\n",
       "      <th>log_0</th>\n",
       "      <th>log_1</th>\n",
       "      <th>log_10</th>\n",
       "      <th>log_100</th>\n",
       "      <th>log_101</th>\n",
       "      <th>log_102</th>\n",
       "      <th>log_103</th>\n",
       "      <th>log_104</th>\n",
       "      <th>...</th>\n",
       "      <th>log_98</th>\n",
       "      <th>log_99</th>\n",
       "      <th>event_total</th>\n",
       "      <th>time_between_first</th>\n",
       "      <th>time_between_last</th>\n",
       "      <th>rt.ru</th>\n",
       "      <th>sampo.ru</th>\n",
       "      <th>last_click</th>\n",
       "      <th>total_clicks</th>\n",
       "      <th>day_or_month_contract</th>\n",
       "    </tr>\n",
       "  </thead>\n",
       "  <tbody>\n",
       "    <tr>\n",
       "      <th>0</th>\n",
       "      <td>7780</td>\n",
       "      <td>0</td>\n",
       "      <td>0.0</td>\n",
       "      <td>0.0</td>\n",
       "      <td>0.0</td>\n",
       "      <td>0.0</td>\n",
       "      <td>0.0</td>\n",
       "      <td>0.0</td>\n",
       "      <td>0.0</td>\n",
       "      <td>0.0</td>\n",
       "      <td>...</td>\n",
       "      <td>0.0</td>\n",
       "      <td>0.0</td>\n",
       "      <td>9.0</td>\n",
       "      <td>43.0</td>\n",
       "      <td>1.0</td>\n",
       "      <td>0.0</td>\n",
       "      <td>83.0</td>\n",
       "      <td>1.0</td>\n",
       "      <td>83.0</td>\n",
       "      <td>0.0</td>\n",
       "    </tr>\n",
       "    <tr>\n",
       "      <th>1</th>\n",
       "      <td>7785</td>\n",
       "      <td>0</td>\n",
       "      <td>0.0</td>\n",
       "      <td>0.0</td>\n",
       "      <td>0.0</td>\n",
       "      <td>0.0</td>\n",
       "      <td>0.0</td>\n",
       "      <td>0.0</td>\n",
       "      <td>0.0</td>\n",
       "      <td>0.0</td>\n",
       "      <td>...</td>\n",
       "      <td>0.0</td>\n",
       "      <td>0.0</td>\n",
       "      <td>1.0</td>\n",
       "      <td>30.0</td>\n",
       "      <td>30.0</td>\n",
       "      <td>3.0</td>\n",
       "      <td>7.0</td>\n",
       "      <td>8.0</td>\n",
       "      <td>10.0</td>\n",
       "      <td>0.0</td>\n",
       "    </tr>\n",
       "    <tr>\n",
       "      <th>2</th>\n",
       "      <td>7794</td>\n",
       "      <td>0</td>\n",
       "      <td>NaN</td>\n",
       "      <td>NaN</td>\n",
       "      <td>NaN</td>\n",
       "      <td>NaN</td>\n",
       "      <td>NaN</td>\n",
       "      <td>NaN</td>\n",
       "      <td>NaN</td>\n",
       "      <td>NaN</td>\n",
       "      <td>...</td>\n",
       "      <td>NaN</td>\n",
       "      <td>NaN</td>\n",
       "      <td>NaN</td>\n",
       "      <td>NaN</td>\n",
       "      <td>NaN</td>\n",
       "      <td>NaN</td>\n",
       "      <td>NaN</td>\n",
       "      <td>NaN</td>\n",
       "      <td>NaN</td>\n",
       "      <td>0.0</td>\n",
       "    </tr>\n",
       "    <tr>\n",
       "      <th>3</th>\n",
       "      <td>7795</td>\n",
       "      <td>0</td>\n",
       "      <td>0.0</td>\n",
       "      <td>0.0</td>\n",
       "      <td>0.0</td>\n",
       "      <td>0.0</td>\n",
       "      <td>0.0</td>\n",
       "      <td>0.0</td>\n",
       "      <td>0.0</td>\n",
       "      <td>0.0</td>\n",
       "      <td>...</td>\n",
       "      <td>0.0</td>\n",
       "      <td>0.0</td>\n",
       "      <td>7.0</td>\n",
       "      <td>52.0</td>\n",
       "      <td>36.0</td>\n",
       "      <td>NaN</td>\n",
       "      <td>NaN</td>\n",
       "      <td>NaN</td>\n",
       "      <td>NaN</td>\n",
       "      <td>1.0</td>\n",
       "    </tr>\n",
       "    <tr>\n",
       "      <th>4</th>\n",
       "      <td>7798</td>\n",
       "      <td>0</td>\n",
       "      <td>0.0</td>\n",
       "      <td>0.0</td>\n",
       "      <td>0.0</td>\n",
       "      <td>0.0</td>\n",
       "      <td>0.0</td>\n",
       "      <td>0.0</td>\n",
       "      <td>0.0</td>\n",
       "      <td>0.0</td>\n",
       "      <td>...</td>\n",
       "      <td>0.0</td>\n",
       "      <td>0.0</td>\n",
       "      <td>3.0</td>\n",
       "      <td>47.0</td>\n",
       "      <td>12.0</td>\n",
       "      <td>NaN</td>\n",
       "      <td>NaN</td>\n",
       "      <td>NaN</td>\n",
       "      <td>NaN</td>\n",
       "      <td>0.0</td>\n",
       "    </tr>\n",
       "    <tr>\n",
       "      <th>...</th>\n",
       "      <td>...</td>\n",
       "      <td>...</td>\n",
       "      <td>...</td>\n",
       "      <td>...</td>\n",
       "      <td>...</td>\n",
       "      <td>...</td>\n",
       "      <td>...</td>\n",
       "      <td>...</td>\n",
       "      <td>...</td>\n",
       "      <td>...</td>\n",
       "      <td>...</td>\n",
       "      <td>...</td>\n",
       "      <td>...</td>\n",
       "      <td>...</td>\n",
       "      <td>...</td>\n",
       "      <td>...</td>\n",
       "      <td>...</td>\n",
       "      <td>...</td>\n",
       "      <td>...</td>\n",
       "      <td>...</td>\n",
       "      <td>...</td>\n",
       "    </tr>\n",
       "    <tr>\n",
       "      <th>5988</th>\n",
       "      <td>274601</td>\n",
       "      <td>1</td>\n",
       "      <td>0.0</td>\n",
       "      <td>0.0</td>\n",
       "      <td>0.0</td>\n",
       "      <td>0.0</td>\n",
       "      <td>0.0</td>\n",
       "      <td>0.0</td>\n",
       "      <td>0.0</td>\n",
       "      <td>0.0</td>\n",
       "      <td>...</td>\n",
       "      <td>0.0</td>\n",
       "      <td>0.0</td>\n",
       "      <td>6.0</td>\n",
       "      <td>9.0</td>\n",
       "      <td>9.0</td>\n",
       "      <td>NaN</td>\n",
       "      <td>NaN</td>\n",
       "      <td>NaN</td>\n",
       "      <td>NaN</td>\n",
       "      <td>1.0</td>\n",
       "    </tr>\n",
       "    <tr>\n",
       "      <th>5989</th>\n",
       "      <td>274710</td>\n",
       "      <td>1</td>\n",
       "      <td>0.0</td>\n",
       "      <td>0.0</td>\n",
       "      <td>0.0</td>\n",
       "      <td>0.0</td>\n",
       "      <td>0.0</td>\n",
       "      <td>0.0</td>\n",
       "      <td>0.0</td>\n",
       "      <td>0.0</td>\n",
       "      <td>...</td>\n",
       "      <td>0.0</td>\n",
       "      <td>0.0</td>\n",
       "      <td>7.0</td>\n",
       "      <td>9.0</td>\n",
       "      <td>9.0</td>\n",
       "      <td>NaN</td>\n",
       "      <td>NaN</td>\n",
       "      <td>NaN</td>\n",
       "      <td>NaN</td>\n",
       "      <td>0.0</td>\n",
       "    </tr>\n",
       "    <tr>\n",
       "      <th>5990</th>\n",
       "      <td>274782</td>\n",
       "      <td>1</td>\n",
       "      <td>0.0</td>\n",
       "      <td>0.0</td>\n",
       "      <td>0.0</td>\n",
       "      <td>0.0</td>\n",
       "      <td>0.0</td>\n",
       "      <td>0.0</td>\n",
       "      <td>0.0</td>\n",
       "      <td>0.0</td>\n",
       "      <td>...</td>\n",
       "      <td>0.0</td>\n",
       "      <td>0.0</td>\n",
       "      <td>8.0</td>\n",
       "      <td>14.0</td>\n",
       "      <td>7.0</td>\n",
       "      <td>NaN</td>\n",
       "      <td>NaN</td>\n",
       "      <td>NaN</td>\n",
       "      <td>NaN</td>\n",
       "      <td>0.0</td>\n",
       "    </tr>\n",
       "    <tr>\n",
       "      <th>5991</th>\n",
       "      <td>274786</td>\n",
       "      <td>1</td>\n",
       "      <td>0.0</td>\n",
       "      <td>0.0</td>\n",
       "      <td>0.0</td>\n",
       "      <td>0.0</td>\n",
       "      <td>0.0</td>\n",
       "      <td>0.0</td>\n",
       "      <td>0.0</td>\n",
       "      <td>0.0</td>\n",
       "      <td>...</td>\n",
       "      <td>0.0</td>\n",
       "      <td>0.0</td>\n",
       "      <td>9.0</td>\n",
       "      <td>14.0</td>\n",
       "      <td>0.0</td>\n",
       "      <td>1.0</td>\n",
       "      <td>0.0</td>\n",
       "      <td>25.0</td>\n",
       "      <td>1.0</td>\n",
       "      <td>1.0</td>\n",
       "    </tr>\n",
       "    <tr>\n",
       "      <th>5992</th>\n",
       "      <td>274918</td>\n",
       "      <td>1</td>\n",
       "      <td>0.0</td>\n",
       "      <td>0.0</td>\n",
       "      <td>0.0</td>\n",
       "      <td>0.0</td>\n",
       "      <td>0.0</td>\n",
       "      <td>0.0</td>\n",
       "      <td>0.0</td>\n",
       "      <td>0.0</td>\n",
       "      <td>...</td>\n",
       "      <td>0.0</td>\n",
       "      <td>0.0</td>\n",
       "      <td>1.0</td>\n",
       "      <td>14.0</td>\n",
       "      <td>14.0</td>\n",
       "      <td>NaN</td>\n",
       "      <td>NaN</td>\n",
       "      <td>NaN</td>\n",
       "      <td>NaN</td>\n",
       "      <td>0.0</td>\n",
       "    </tr>\n",
       "  </tbody>\n",
       "</table>\n",
       "<p>5993 rows × 115 columns</p>\n",
       "</div>"
      ],
      "text/plain": [
       "      contract_id  blocked  log_0  log_1  log_10  log_100  log_101  log_102  \\\n",
       "0            7780        0    0.0    0.0     0.0      0.0      0.0      0.0   \n",
       "1            7785        0    0.0    0.0     0.0      0.0      0.0      0.0   \n",
       "2            7794        0    NaN    NaN     NaN      NaN      NaN      NaN   \n",
       "3            7795        0    0.0    0.0     0.0      0.0      0.0      0.0   \n",
       "4            7798        0    0.0    0.0     0.0      0.0      0.0      0.0   \n",
       "...           ...      ...    ...    ...     ...      ...      ...      ...   \n",
       "5988       274601        1    0.0    0.0     0.0      0.0      0.0      0.0   \n",
       "5989       274710        1    0.0    0.0     0.0      0.0      0.0      0.0   \n",
       "5990       274782        1    0.0    0.0     0.0      0.0      0.0      0.0   \n",
       "5991       274786        1    0.0    0.0     0.0      0.0      0.0      0.0   \n",
       "5992       274918        1    0.0    0.0     0.0      0.0      0.0      0.0   \n",
       "\n",
       "      log_103  log_104  ...  log_98  log_99  event_total  time_between_first  \\\n",
       "0         0.0      0.0  ...     0.0     0.0          9.0                43.0   \n",
       "1         0.0      0.0  ...     0.0     0.0          1.0                30.0   \n",
       "2         NaN      NaN  ...     NaN     NaN          NaN                 NaN   \n",
       "3         0.0      0.0  ...     0.0     0.0          7.0                52.0   \n",
       "4         0.0      0.0  ...     0.0     0.0          3.0                47.0   \n",
       "...       ...      ...  ...     ...     ...          ...                 ...   \n",
       "5988      0.0      0.0  ...     0.0     0.0          6.0                 9.0   \n",
       "5989      0.0      0.0  ...     0.0     0.0          7.0                 9.0   \n",
       "5990      0.0      0.0  ...     0.0     0.0          8.0                14.0   \n",
       "5991      0.0      0.0  ...     0.0     0.0          9.0                14.0   \n",
       "5992      0.0      0.0  ...     0.0     0.0          1.0                14.0   \n",
       "\n",
       "      time_between_last  rt.ru  sampo.ru  last_click  total_clicks  \\\n",
       "0                   1.0    0.0      83.0         1.0          83.0   \n",
       "1                  30.0    3.0       7.0         8.0          10.0   \n",
       "2                   NaN    NaN       NaN         NaN           NaN   \n",
       "3                  36.0    NaN       NaN         NaN           NaN   \n",
       "4                  12.0    NaN       NaN         NaN           NaN   \n",
       "...                 ...    ...       ...         ...           ...   \n",
       "5988                9.0    NaN       NaN         NaN           NaN   \n",
       "5989                9.0    NaN       NaN         NaN           NaN   \n",
       "5990                7.0    NaN       NaN         NaN           NaN   \n",
       "5991                0.0    1.0       0.0        25.0           1.0   \n",
       "5992               14.0    NaN       NaN         NaN           NaN   \n",
       "\n",
       "      day_or_month_contract  \n",
       "0                       0.0  \n",
       "1                       0.0  \n",
       "2                       0.0  \n",
       "3                       1.0  \n",
       "4                       0.0  \n",
       "...                     ...  \n",
       "5988                    1.0  \n",
       "5989                    0.0  \n",
       "5990                    0.0  \n",
       "5991                    1.0  \n",
       "5992                    0.0  \n",
       "\n",
       "[5993 rows x 115 columns]"
      ]
     },
     "execution_count": 28,
     "metadata": {},
     "output_type": "execute_result"
    }
   ],
   "source": [
    "df_train"
   ]
  },
  {
   "cell_type": "code",
   "execution_count": 259,
   "metadata": {
    "id": "R4fN_sD-dGSG",
    "pycharm": {
     "name": "#%%\n"
    }
   },
   "outputs": [],
   "source": [
    "X_train = df_train.drop([\"contract_id\", \"blocked\"], axis=1).fillna(0)\n",
    "y_train = df_train[[\"blocked\"]]\n",
    "\n",
    "X_test = df_test.drop([\"contract_id\"], axis=1).fillna(0)"
   ]
  },
  {
   "cell_type": "code",
   "execution_count": null,
   "metadata": {
    "pycharm": {
     "name": "#%%\n"
    }
   },
   "outputs": [],
   "source": [
    "# drop ['log_10', 'log_100', 'log_103', 'log_104', 'log_19', 'log_21', 'log_30', 'log_35', 'log_39', 'log_43', 'log_44', 'log_52', 'log_62', 'log_80', 'log_99']"
   ]
  },
  {
   "cell_type": "markdown",
   "metadata": {
    "id": "wWOMlu5megED",
    "pycharm": {
     "name": "#%% md\n"
    }
   },
   "source": [
    "## Обучение модели"
   ]
  },
  {
   "cell_type": "code",
   "execution_count": 260,
   "metadata": {
    "id": "v550JiyIdZNk",
    "pycharm": {
     "name": "#%%\n"
    }
   },
   "outputs": [],
   "source": [
    "#clf = CatBoostClassifier(random_state=0)\n",
    "#clf.fit(X_train, y_train)"
   ]
  },
  {
   "cell_type": "code",
   "execution_count": 7,
   "metadata": {
    "pycharm": {
     "name": "#%%\n"
    }
   },
   "outputs": [],
   "source": [
    "# feature_scores = pd.DataFrame({'feature': clf.feature_names_, 'score': clf.feature_importances_})\n",
    "# bad_features = list(feature_scores[feature_scores['score'] == 0]['feature'])\n",
    "# feature_scores.sort_values(by='score', ascending=False)"
   ]
  },
  {
   "cell_type": "code",
   "execution_count": 100,
   "metadata": {
    "pycharm": {
     "name": "#%%\n"
    }
   },
   "outputs": [],
   "source": [
    "drop_features = ['log_72', 'log_74', 'log_80', 'log_1', 'log_7', 'log_73', 'log_75', 'log_0', 'log_77', 'log_78', 'log_8', 'log_100',\n",
    " 'log_81', 'log_10', 'log_83', 'log_84', 'log_85', 'log_99', 'log_87', 'log_9', 'log_91', 'log_92', 'log_93', 'log_95', 'log_96', 'log_97', 'log_98', 'log_19', 'log_102',\n",
    " 'log_65', 'log_30', 'log_43', 'log_39', 'log_38', 'log_14', 'log_35', 'log_15', 'log_32', 'log_31', 'log_16', 'log_64', 'log_28', 'log_27', 'log_26', 'log_25', 'log_24',\n",
    " 'log_17', 'log_21', 'log_20', 'log_44', 'log_45', 'log_13', 'log_47', 'log_101', 'log_62', 'log_2', 'log_103', 'log_6', 'log_59', 'log_58', 'log_57', 'log_56', 'log_55',\n",
    " 'log_54', 'log_104', 'log_11', 'log_51', 'log_50', 'log_5', 'log_12', 'log_52']"
   ]
  },
  {
   "cell_type": "code",
   "execution_count": 127,
   "metadata": {
    "pycharm": {
     "name": "#%%\n"
    }
   },
   "outputs": [],
   "source": [
    "task = Task('binary',\n",
    "            metric=lambda y_true, y_pred: recall_score(y_true, (y_pred > 0.1)*1, average='macro'),\n",
    "            greater_is_better=True\n",
    ")\n",
    "\n",
    "roles = {\n",
    "    'target': TARGET_NAME,\n",
    "    'category': ['day_or_month_contract'],\n",
    "    'id': ['contract_id'],\n",
    "    'drop': drop_features\n",
    "}"
   ]
  },
  {
   "cell_type": "code",
   "execution_count": 128,
   "metadata": {
    "pycharm": {
     "name": "#%%\n"
    }
   },
   "outputs": [],
   "source": [
    "model = TabularAutoML(\n",
    "    task = task,\n",
    "    timeout = TIMEOUT,\n",
    "    cpu_limit = N_THREADS,\n",
    "    reader_params = {'n_jobs': N_THREADS, 'cv': N_FOLDS, 'random_state': RANDOM_STATE}\n",
    ")"
   ]
  },
  {
   "cell_type": "code",
   "execution_count": 129,
   "metadata": {
    "pycharm": {
     "name": "#%%\n"
    }
   },
   "outputs": [
    {
     "name": "stdout",
     "output_type": "stream",
     "text": [
      "[21:39:24] Stdout logging level is INFO.\n",
      "[21:39:24] Task: binary\n",
      "\n",
      "[21:39:24] Start automl preset with listed constraints:\n",
      "[21:39:24] - time: 300.00 seconds\n",
      "[21:39:24] - CPU: 20 cores\n",
      "[21:39:24] - memory: 16 GB\n",
      "\n",
      "[21:39:24] \u001B[1mTrain data shape: (5993, 115)\u001B[0m\n",
      "\n",
      "[21:39:26] Layer \u001B[1m1\u001B[0m train process start. Time left 297.76 secs\n",
      "[21:39:26] Start fitting \u001B[1mLvl_0_Pipe_0_Mod_0_LinearL2\u001B[0m ...\n",
      "[21:39:28] Fitting \u001B[1mLvl_0_Pipe_0_Mod_0_LinearL2\u001B[0m finished. score = \u001B[1m0.707840288318709\u001B[0m\n",
      "[21:39:28] \u001B[1mLvl_0_Pipe_0_Mod_0_LinearL2\u001B[0m fitting and predicting completed\n",
      "[21:39:28] Time left 295.81 secs\n",
      "\n",
      "[21:39:29] \u001B[1mSelector_LightGBM\u001B[0m fitting and predicting completed\n",
      "[21:39:29] Start fitting \u001B[1mLvl_0_Pipe_1_Mod_0_LightGBM\u001B[0m ...\n",
      "[21:39:32] Fitting \u001B[1mLvl_0_Pipe_1_Mod_0_LightGBM\u001B[0m finished. score = \u001B[1m0.7259639709841419\u001B[0m\n",
      "[21:39:32] \u001B[1mLvl_0_Pipe_1_Mod_0_LightGBM\u001B[0m fitting and predicting completed\n",
      "[21:39:32] Start hyperparameters optimization for \u001B[1mLvl_0_Pipe_1_Mod_1_Tuned_LightGBM\u001B[0m ... Time budget is 52.10 secs\n"
     ]
    },
    {
     "name": "stderr",
     "output_type": "stream",
     "text": [
      "e:\\projects\\telecom_scoring\\venv\\lib\\site-packages\\lightautoml\\ml_algo\\tuning\\optuna.py:231: FutureWarning: suggest_uniform has been deprecated in v3.0.0. This feature will be removed in v6.0.0. See https://github.com/optuna/optuna/releases/tag/v3.0.0. Use :func:`~optuna.trial.Trial.suggest_float` instead.\n",
      "  trial_values[parameter] = getattr(trial, OPTUNA_DISTRIBUTIONS_MAP[SearchSpace.distribution_type])(\n",
      "e:\\projects\\telecom_scoring\\venv\\lib\\site-packages\\lightautoml\\ml_algo\\tuning\\optuna.py:231: FutureWarning: suggest_loguniform has been deprecated in v3.0.0. This feature will be removed in v6.0.0. See https://github.com/optuna/optuna/releases/tag/v3.0.0. Use :func:`~optuna.trial.Trial.suggest_float` instead.\n",
      "  trial_values[parameter] = getattr(trial, OPTUNA_DISTRIBUTIONS_MAP[SearchSpace.distribution_type])(\n",
      "e:\\projects\\telecom_scoring\\venv\\lib\\site-packages\\lightautoml\\ml_algo\\tuning\\optuna.py:231: FutureWarning: suggest_uniform has been deprecated in v3.0.0. This feature will be removed in v6.0.0. See https://github.com/optuna/optuna/releases/tag/v3.0.0. Use :func:`~optuna.trial.Trial.suggest_float` instead.\n",
      "  trial_values[parameter] = getattr(trial, OPTUNA_DISTRIBUTIONS_MAP[SearchSpace.distribution_type])(\n",
      "e:\\projects\\telecom_scoring\\venv\\lib\\site-packages\\lightautoml\\ml_algo\\tuning\\optuna.py:231: FutureWarning: suggest_loguniform has been deprecated in v3.0.0. This feature will be removed in v6.0.0. See https://github.com/optuna/optuna/releases/tag/v3.0.0. Use :func:`~optuna.trial.Trial.suggest_float` instead.\n",
      "  trial_values[parameter] = getattr(trial, OPTUNA_DISTRIBUTIONS_MAP[SearchSpace.distribution_type])(\n",
      "e:\\projects\\telecom_scoring\\venv\\lib\\site-packages\\lightautoml\\ml_algo\\tuning\\optuna.py:231: FutureWarning: suggest_uniform has been deprecated in v3.0.0. This feature will be removed in v6.0.0. See https://github.com/optuna/optuna/releases/tag/v3.0.0. Use :func:`~optuna.trial.Trial.suggest_float` instead.\n",
      "  trial_values[parameter] = getattr(trial, OPTUNA_DISTRIBUTIONS_MAP[SearchSpace.distribution_type])(\n",
      "e:\\projects\\telecom_scoring\\venv\\lib\\site-packages\\lightautoml\\ml_algo\\tuning\\optuna.py:231: FutureWarning: suggest_loguniform has been deprecated in v3.0.0. This feature will be removed in v6.0.0. See https://github.com/optuna/optuna/releases/tag/v3.0.0. Use :func:`~optuna.trial.Trial.suggest_float` instead.\n",
      "  trial_values[parameter] = getattr(trial, OPTUNA_DISTRIBUTIONS_MAP[SearchSpace.distribution_type])(\n",
      "e:\\projects\\telecom_scoring\\venv\\lib\\site-packages\\lightautoml\\ml_algo\\tuning\\optuna.py:231: FutureWarning: suggest_uniform has been deprecated in v3.0.0. This feature will be removed in v6.0.0. See https://github.com/optuna/optuna/releases/tag/v3.0.0. Use :func:`~optuna.trial.Trial.suggest_float` instead.\n",
      "  trial_values[parameter] = getattr(trial, OPTUNA_DISTRIBUTIONS_MAP[SearchSpace.distribution_type])(\n",
      "e:\\projects\\telecom_scoring\\venv\\lib\\site-packages\\lightautoml\\ml_algo\\tuning\\optuna.py:231: FutureWarning: suggest_loguniform has been deprecated in v3.0.0. This feature will be removed in v6.0.0. See https://github.com/optuna/optuna/releases/tag/v3.0.0. Use :func:`~optuna.trial.Trial.suggest_float` instead.\n",
      "  trial_values[parameter] = getattr(trial, OPTUNA_DISTRIBUTIONS_MAP[SearchSpace.distribution_type])(\n",
      "e:\\projects\\telecom_scoring\\venv\\lib\\site-packages\\lightautoml\\ml_algo\\tuning\\optuna.py:231: FutureWarning: suggest_uniform has been deprecated in v3.0.0. This feature will be removed in v6.0.0. See https://github.com/optuna/optuna/releases/tag/v3.0.0. Use :func:`~optuna.trial.Trial.suggest_float` instead.\n",
      "  trial_values[parameter] = getattr(trial, OPTUNA_DISTRIBUTIONS_MAP[SearchSpace.distribution_type])(\n",
      "e:\\projects\\telecom_scoring\\venv\\lib\\site-packages\\lightautoml\\ml_algo\\tuning\\optuna.py:231: FutureWarning: suggest_loguniform has been deprecated in v3.0.0. This feature will be removed in v6.0.0. See https://github.com/optuna/optuna/releases/tag/v3.0.0. Use :func:`~optuna.trial.Trial.suggest_float` instead.\n",
      "  trial_values[parameter] = getattr(trial, OPTUNA_DISTRIBUTIONS_MAP[SearchSpace.distribution_type])(\n",
      "e:\\projects\\telecom_scoring\\venv\\lib\\site-packages\\lightautoml\\ml_algo\\tuning\\optuna.py:231: FutureWarning: suggest_uniform has been deprecated in v3.0.0. This feature will be removed in v6.0.0. See https://github.com/optuna/optuna/releases/tag/v3.0.0. Use :func:`~optuna.trial.Trial.suggest_float` instead.\n",
      "  trial_values[parameter] = getattr(trial, OPTUNA_DISTRIBUTIONS_MAP[SearchSpace.distribution_type])(\n",
      "e:\\projects\\telecom_scoring\\venv\\lib\\site-packages\\lightautoml\\ml_algo\\tuning\\optuna.py:231: FutureWarning: suggest_loguniform has been deprecated in v3.0.0. This feature will be removed in v6.0.0. See https://github.com/optuna/optuna/releases/tag/v3.0.0. Use :func:`~optuna.trial.Trial.suggest_float` instead.\n",
      "  trial_values[parameter] = getattr(trial, OPTUNA_DISTRIBUTIONS_MAP[SearchSpace.distribution_type])(\n",
      "e:\\projects\\telecom_scoring\\venv\\lib\\site-packages\\lightautoml\\ml_algo\\tuning\\optuna.py:231: FutureWarning: suggest_uniform has been deprecated in v3.0.0. This feature will be removed in v6.0.0. See https://github.com/optuna/optuna/releases/tag/v3.0.0. Use :func:`~optuna.trial.Trial.suggest_float` instead.\n",
      "  trial_values[parameter] = getattr(trial, OPTUNA_DISTRIBUTIONS_MAP[SearchSpace.distribution_type])(\n",
      "e:\\projects\\telecom_scoring\\venv\\lib\\site-packages\\lightautoml\\ml_algo\\tuning\\optuna.py:231: FutureWarning: suggest_loguniform has been deprecated in v3.0.0. This feature will be removed in v6.0.0. See https://github.com/optuna/optuna/releases/tag/v3.0.0. Use :func:`~optuna.trial.Trial.suggest_float` instead.\n",
      "  trial_values[parameter] = getattr(trial, OPTUNA_DISTRIBUTIONS_MAP[SearchSpace.distribution_type])(\n",
      "e:\\projects\\telecom_scoring\\venv\\lib\\site-packages\\lightautoml\\ml_algo\\tuning\\optuna.py:231: FutureWarning: suggest_uniform has been deprecated in v3.0.0. This feature will be removed in v6.0.0. See https://github.com/optuna/optuna/releases/tag/v3.0.0. Use :func:`~optuna.trial.Trial.suggest_float` instead.\n",
      "  trial_values[parameter] = getattr(trial, OPTUNA_DISTRIBUTIONS_MAP[SearchSpace.distribution_type])(\n",
      "e:\\projects\\telecom_scoring\\venv\\lib\\site-packages\\lightautoml\\ml_algo\\tuning\\optuna.py:231: FutureWarning: suggest_loguniform has been deprecated in v3.0.0. This feature will be removed in v6.0.0. See https://github.com/optuna/optuna/releases/tag/v3.0.0. Use :func:`~optuna.trial.Trial.suggest_float` instead.\n",
      "  trial_values[parameter] = getattr(trial, OPTUNA_DISTRIBUTIONS_MAP[SearchSpace.distribution_type])(\n",
      "e:\\projects\\telecom_scoring\\venv\\lib\\site-packages\\lightautoml\\ml_algo\\tuning\\optuna.py:231: FutureWarning: suggest_uniform has been deprecated in v3.0.0. This feature will be removed in v6.0.0. See https://github.com/optuna/optuna/releases/tag/v3.0.0. Use :func:`~optuna.trial.Trial.suggest_float` instead.\n",
      "  trial_values[parameter] = getattr(trial, OPTUNA_DISTRIBUTIONS_MAP[SearchSpace.distribution_type])(\n",
      "e:\\projects\\telecom_scoring\\venv\\lib\\site-packages\\lightautoml\\ml_algo\\tuning\\optuna.py:231: FutureWarning: suggest_loguniform has been deprecated in v3.0.0. This feature will be removed in v6.0.0. See https://github.com/optuna/optuna/releases/tag/v3.0.0. Use :func:`~optuna.trial.Trial.suggest_float` instead.\n",
      "  trial_values[parameter] = getattr(trial, OPTUNA_DISTRIBUTIONS_MAP[SearchSpace.distribution_type])(\n",
      "e:\\projects\\telecom_scoring\\venv\\lib\\site-packages\\lightautoml\\ml_algo\\tuning\\optuna.py:231: FutureWarning: suggest_uniform has been deprecated in v3.0.0. This feature will be removed in v6.0.0. See https://github.com/optuna/optuna/releases/tag/v3.0.0. Use :func:`~optuna.trial.Trial.suggest_float` instead.\n",
      "  trial_values[parameter] = getattr(trial, OPTUNA_DISTRIBUTIONS_MAP[SearchSpace.distribution_type])(\n",
      "e:\\projects\\telecom_scoring\\venv\\lib\\site-packages\\lightautoml\\ml_algo\\tuning\\optuna.py:231: FutureWarning: suggest_loguniform has been deprecated in v3.0.0. This feature will be removed in v6.0.0. See https://github.com/optuna/optuna/releases/tag/v3.0.0. Use :func:`~optuna.trial.Trial.suggest_float` instead.\n",
      "  trial_values[parameter] = getattr(trial, OPTUNA_DISTRIBUTIONS_MAP[SearchSpace.distribution_type])(\n",
      "e:\\projects\\telecom_scoring\\venv\\lib\\site-packages\\lightautoml\\ml_algo\\tuning\\optuna.py:231: FutureWarning: suggest_uniform has been deprecated in v3.0.0. This feature will be removed in v6.0.0. See https://github.com/optuna/optuna/releases/tag/v3.0.0. Use :func:`~optuna.trial.Trial.suggest_float` instead.\n",
      "  trial_values[parameter] = getattr(trial, OPTUNA_DISTRIBUTIONS_MAP[SearchSpace.distribution_type])(\n",
      "e:\\projects\\telecom_scoring\\venv\\lib\\site-packages\\lightautoml\\ml_algo\\tuning\\optuna.py:231: FutureWarning: suggest_loguniform has been deprecated in v3.0.0. This feature will be removed in v6.0.0. See https://github.com/optuna/optuna/releases/tag/v3.0.0. Use :func:`~optuna.trial.Trial.suggest_float` instead.\n",
      "  trial_values[parameter] = getattr(trial, OPTUNA_DISTRIBUTIONS_MAP[SearchSpace.distribution_type])(\n",
      "e:\\projects\\telecom_scoring\\venv\\lib\\site-packages\\lightautoml\\ml_algo\\tuning\\optuna.py:231: FutureWarning: suggest_uniform has been deprecated in v3.0.0. This feature will be removed in v6.0.0. See https://github.com/optuna/optuna/releases/tag/v3.0.0. Use :func:`~optuna.trial.Trial.suggest_float` instead.\n",
      "  trial_values[parameter] = getattr(trial, OPTUNA_DISTRIBUTIONS_MAP[SearchSpace.distribution_type])(\n",
      "e:\\projects\\telecom_scoring\\venv\\lib\\site-packages\\lightautoml\\ml_algo\\tuning\\optuna.py:231: FutureWarning: suggest_loguniform has been deprecated in v3.0.0. This feature will be removed in v6.0.0. See https://github.com/optuna/optuna/releases/tag/v3.0.0. Use :func:`~optuna.trial.Trial.suggest_float` instead.\n",
      "  trial_values[parameter] = getattr(trial, OPTUNA_DISTRIBUTIONS_MAP[SearchSpace.distribution_type])(\n",
      "e:\\projects\\telecom_scoring\\venv\\lib\\site-packages\\lightautoml\\ml_algo\\tuning\\optuna.py:231: FutureWarning: suggest_uniform has been deprecated in v3.0.0. This feature will be removed in v6.0.0. See https://github.com/optuna/optuna/releases/tag/v3.0.0. Use :func:`~optuna.trial.Trial.suggest_float` instead.\n",
      "  trial_values[parameter] = getattr(trial, OPTUNA_DISTRIBUTIONS_MAP[SearchSpace.distribution_type])(\n",
      "e:\\projects\\telecom_scoring\\venv\\lib\\site-packages\\lightautoml\\ml_algo\\tuning\\optuna.py:231: FutureWarning: suggest_loguniform has been deprecated in v3.0.0. This feature will be removed in v6.0.0. See https://github.com/optuna/optuna/releases/tag/v3.0.0. Use :func:`~optuna.trial.Trial.suggest_float` instead.\n",
      "  trial_values[parameter] = getattr(trial, OPTUNA_DISTRIBUTIONS_MAP[SearchSpace.distribution_type])(\n",
      "e:\\projects\\telecom_scoring\\venv\\lib\\site-packages\\lightautoml\\ml_algo\\tuning\\optuna.py:231: FutureWarning: suggest_uniform has been deprecated in v3.0.0. This feature will be removed in v6.0.0. See https://github.com/optuna/optuna/releases/tag/v3.0.0. Use :func:`~optuna.trial.Trial.suggest_float` instead.\n",
      "  trial_values[parameter] = getattr(trial, OPTUNA_DISTRIBUTIONS_MAP[SearchSpace.distribution_type])(\n",
      "e:\\projects\\telecom_scoring\\venv\\lib\\site-packages\\lightautoml\\ml_algo\\tuning\\optuna.py:231: FutureWarning: suggest_loguniform has been deprecated in v3.0.0. This feature will be removed in v6.0.0. See https://github.com/optuna/optuna/releases/tag/v3.0.0. Use :func:`~optuna.trial.Trial.suggest_float` instead.\n",
      "  trial_values[parameter] = getattr(trial, OPTUNA_DISTRIBUTIONS_MAP[SearchSpace.distribution_type])(\n",
      "e:\\projects\\telecom_scoring\\venv\\lib\\site-packages\\lightautoml\\ml_algo\\tuning\\optuna.py:231: FutureWarning: suggest_uniform has been deprecated in v3.0.0. This feature will be removed in v6.0.0. See https://github.com/optuna/optuna/releases/tag/v3.0.0. Use :func:`~optuna.trial.Trial.suggest_float` instead.\n",
      "  trial_values[parameter] = getattr(trial, OPTUNA_DISTRIBUTIONS_MAP[SearchSpace.distribution_type])(\n",
      "e:\\projects\\telecom_scoring\\venv\\lib\\site-packages\\lightautoml\\ml_algo\\tuning\\optuna.py:231: FutureWarning: suggest_loguniform has been deprecated in v3.0.0. This feature will be removed in v6.0.0. See https://github.com/optuna/optuna/releases/tag/v3.0.0. Use :func:`~optuna.trial.Trial.suggest_float` instead.\n",
      "  trial_values[parameter] = getattr(trial, OPTUNA_DISTRIBUTIONS_MAP[SearchSpace.distribution_type])(\n",
      "e:\\projects\\telecom_scoring\\venv\\lib\\site-packages\\lightautoml\\ml_algo\\tuning\\optuna.py:231: FutureWarning: suggest_uniform has been deprecated in v3.0.0. This feature will be removed in v6.0.0. See https://github.com/optuna/optuna/releases/tag/v3.0.0. Use :func:`~optuna.trial.Trial.suggest_float` instead.\n",
      "  trial_values[parameter] = getattr(trial, OPTUNA_DISTRIBUTIONS_MAP[SearchSpace.distribution_type])(\n",
      "e:\\projects\\telecom_scoring\\venv\\lib\\site-packages\\lightautoml\\ml_algo\\tuning\\optuna.py:231: FutureWarning: suggest_loguniform has been deprecated in v3.0.0. This feature will be removed in v6.0.0. See https://github.com/optuna/optuna/releases/tag/v3.0.0. Use :func:`~optuna.trial.Trial.suggest_float` instead.\n",
      "  trial_values[parameter] = getattr(trial, OPTUNA_DISTRIBUTIONS_MAP[SearchSpace.distribution_type])(\n",
      "e:\\projects\\telecom_scoring\\venv\\lib\\site-packages\\lightautoml\\ml_algo\\tuning\\optuna.py:231: FutureWarning: suggest_uniform has been deprecated in v3.0.0. This feature will be removed in v6.0.0. See https://github.com/optuna/optuna/releases/tag/v3.0.0. Use :func:`~optuna.trial.Trial.suggest_float` instead.\n",
      "  trial_values[parameter] = getattr(trial, OPTUNA_DISTRIBUTIONS_MAP[SearchSpace.distribution_type])(\n",
      "e:\\projects\\telecom_scoring\\venv\\lib\\site-packages\\lightautoml\\ml_algo\\tuning\\optuna.py:231: FutureWarning: suggest_loguniform has been deprecated in v3.0.0. This feature will be removed in v6.0.0. See https://github.com/optuna/optuna/releases/tag/v3.0.0. Use :func:`~optuna.trial.Trial.suggest_float` instead.\n",
      "  trial_values[parameter] = getattr(trial, OPTUNA_DISTRIBUTIONS_MAP[SearchSpace.distribution_type])(\n",
      "e:\\projects\\telecom_scoring\\venv\\lib\\site-packages\\lightautoml\\ml_algo\\tuning\\optuna.py:231: FutureWarning: suggest_uniform has been deprecated in v3.0.0. This feature will be removed in v6.0.0. See https://github.com/optuna/optuna/releases/tag/v3.0.0. Use :func:`~optuna.trial.Trial.suggest_float` instead.\n",
      "  trial_values[parameter] = getattr(trial, OPTUNA_DISTRIBUTIONS_MAP[SearchSpace.distribution_type])(\n",
      "e:\\projects\\telecom_scoring\\venv\\lib\\site-packages\\lightautoml\\ml_algo\\tuning\\optuna.py:231: FutureWarning: suggest_loguniform has been deprecated in v3.0.0. This feature will be removed in v6.0.0. See https://github.com/optuna/optuna/releases/tag/v3.0.0. Use :func:`~optuna.trial.Trial.suggest_float` instead.\n",
      "  trial_values[parameter] = getattr(trial, OPTUNA_DISTRIBUTIONS_MAP[SearchSpace.distribution_type])(\n",
      "e:\\projects\\telecom_scoring\\venv\\lib\\site-packages\\lightautoml\\ml_algo\\tuning\\optuna.py:231: FutureWarning: suggest_uniform has been deprecated in v3.0.0. This feature will be removed in v6.0.0. See https://github.com/optuna/optuna/releases/tag/v3.0.0. Use :func:`~optuna.trial.Trial.suggest_float` instead.\n",
      "  trial_values[parameter] = getattr(trial, OPTUNA_DISTRIBUTIONS_MAP[SearchSpace.distribution_type])(\n",
      "e:\\projects\\telecom_scoring\\venv\\lib\\site-packages\\lightautoml\\ml_algo\\tuning\\optuna.py:231: FutureWarning: suggest_loguniform has been deprecated in v3.0.0. This feature will be removed in v6.0.0. See https://github.com/optuna/optuna/releases/tag/v3.0.0. Use :func:`~optuna.trial.Trial.suggest_float` instead.\n",
      "  trial_values[parameter] = getattr(trial, OPTUNA_DISTRIBUTIONS_MAP[SearchSpace.distribution_type])(\n",
      "e:\\projects\\telecom_scoring\\venv\\lib\\site-packages\\lightautoml\\ml_algo\\tuning\\optuna.py:231: FutureWarning: suggest_uniform has been deprecated in v3.0.0. This feature will be removed in v6.0.0. See https://github.com/optuna/optuna/releases/tag/v3.0.0. Use :func:`~optuna.trial.Trial.suggest_float` instead.\n",
      "  trial_values[parameter] = getattr(trial, OPTUNA_DISTRIBUTIONS_MAP[SearchSpace.distribution_type])(\n",
      "e:\\projects\\telecom_scoring\\venv\\lib\\site-packages\\lightautoml\\ml_algo\\tuning\\optuna.py:231: FutureWarning: suggest_loguniform has been deprecated in v3.0.0. This feature will be removed in v6.0.0. See https://github.com/optuna/optuna/releases/tag/v3.0.0. Use :func:`~optuna.trial.Trial.suggest_float` instead.\n",
      "  trial_values[parameter] = getattr(trial, OPTUNA_DISTRIBUTIONS_MAP[SearchSpace.distribution_type])(\n",
      "e:\\projects\\telecom_scoring\\venv\\lib\\site-packages\\lightautoml\\ml_algo\\tuning\\optuna.py:231: FutureWarning: suggest_uniform has been deprecated in v3.0.0. This feature will be removed in v6.0.0. See https://github.com/optuna/optuna/releases/tag/v3.0.0. Use :func:`~optuna.trial.Trial.suggest_float` instead.\n",
      "  trial_values[parameter] = getattr(trial, OPTUNA_DISTRIBUTIONS_MAP[SearchSpace.distribution_type])(\n",
      "e:\\projects\\telecom_scoring\\venv\\lib\\site-packages\\lightautoml\\ml_algo\\tuning\\optuna.py:231: FutureWarning: suggest_loguniform has been deprecated in v3.0.0. This feature will be removed in v6.0.0. See https://github.com/optuna/optuna/releases/tag/v3.0.0. Use :func:`~optuna.trial.Trial.suggest_float` instead.\n",
      "  trial_values[parameter] = getattr(trial, OPTUNA_DISTRIBUTIONS_MAP[SearchSpace.distribution_type])(\n",
      "e:\\projects\\telecom_scoring\\venv\\lib\\site-packages\\lightautoml\\ml_algo\\tuning\\optuna.py:231: FutureWarning: suggest_uniform has been deprecated in v3.0.0. This feature will be removed in v6.0.0. See https://github.com/optuna/optuna/releases/tag/v3.0.0. Use :func:`~optuna.trial.Trial.suggest_float` instead.\n",
      "  trial_values[parameter] = getattr(trial, OPTUNA_DISTRIBUTIONS_MAP[SearchSpace.distribution_type])(\n",
      "e:\\projects\\telecom_scoring\\venv\\lib\\site-packages\\lightautoml\\ml_algo\\tuning\\optuna.py:231: FutureWarning: suggest_loguniform has been deprecated in v3.0.0. This feature will be removed in v6.0.0. See https://github.com/optuna/optuna/releases/tag/v3.0.0. Use :func:`~optuna.trial.Trial.suggest_float` instead.\n",
      "  trial_values[parameter] = getattr(trial, OPTUNA_DISTRIBUTIONS_MAP[SearchSpace.distribution_type])(\n",
      "e:\\projects\\telecom_scoring\\venv\\lib\\site-packages\\lightautoml\\ml_algo\\tuning\\optuna.py:231: FutureWarning: suggest_uniform has been deprecated in v3.0.0. This feature will be removed in v6.0.0. See https://github.com/optuna/optuna/releases/tag/v3.0.0. Use :func:`~optuna.trial.Trial.suggest_float` instead.\n",
      "  trial_values[parameter] = getattr(trial, OPTUNA_DISTRIBUTIONS_MAP[SearchSpace.distribution_type])(\n",
      "e:\\projects\\telecom_scoring\\venv\\lib\\site-packages\\lightautoml\\ml_algo\\tuning\\optuna.py:231: FutureWarning: suggest_loguniform has been deprecated in v3.0.0. This feature will be removed in v6.0.0. See https://github.com/optuna/optuna/releases/tag/v3.0.0. Use :func:`~optuna.trial.Trial.suggest_float` instead.\n",
      "  trial_values[parameter] = getattr(trial, OPTUNA_DISTRIBUTIONS_MAP[SearchSpace.distribution_type])(\n",
      "e:\\projects\\telecom_scoring\\venv\\lib\\site-packages\\lightautoml\\ml_algo\\tuning\\optuna.py:231: FutureWarning: suggest_uniform has been deprecated in v3.0.0. This feature will be removed in v6.0.0. See https://github.com/optuna/optuna/releases/tag/v3.0.0. Use :func:`~optuna.trial.Trial.suggest_float` instead.\n",
      "  trial_values[parameter] = getattr(trial, OPTUNA_DISTRIBUTIONS_MAP[SearchSpace.distribution_type])(\n",
      "e:\\projects\\telecom_scoring\\venv\\lib\\site-packages\\lightautoml\\ml_algo\\tuning\\optuna.py:231: FutureWarning: suggest_loguniform has been deprecated in v3.0.0. This feature will be removed in v6.0.0. See https://github.com/optuna/optuna/releases/tag/v3.0.0. Use :func:`~optuna.trial.Trial.suggest_float` instead.\n",
      "  trial_values[parameter] = getattr(trial, OPTUNA_DISTRIBUTIONS_MAP[SearchSpace.distribution_type])(\n",
      "e:\\projects\\telecom_scoring\\venv\\lib\\site-packages\\lightautoml\\ml_algo\\tuning\\optuna.py:231: FutureWarning: suggest_uniform has been deprecated in v3.0.0. This feature will be removed in v6.0.0. See https://github.com/optuna/optuna/releases/tag/v3.0.0. Use :func:`~optuna.trial.Trial.suggest_float` instead.\n",
      "  trial_values[parameter] = getattr(trial, OPTUNA_DISTRIBUTIONS_MAP[SearchSpace.distribution_type])(\n",
      "e:\\projects\\telecom_scoring\\venv\\lib\\site-packages\\lightautoml\\ml_algo\\tuning\\optuna.py:231: FutureWarning: suggest_loguniform has been deprecated in v3.0.0. This feature will be removed in v6.0.0. See https://github.com/optuna/optuna/releases/tag/v3.0.0. Use :func:`~optuna.trial.Trial.suggest_float` instead.\n",
      "  trial_values[parameter] = getattr(trial, OPTUNA_DISTRIBUTIONS_MAP[SearchSpace.distribution_type])(\n",
      "e:\\projects\\telecom_scoring\\venv\\lib\\site-packages\\lightautoml\\ml_algo\\tuning\\optuna.py:231: FutureWarning: suggest_uniform has been deprecated in v3.0.0. This feature will be removed in v6.0.0. See https://github.com/optuna/optuna/releases/tag/v3.0.0. Use :func:`~optuna.trial.Trial.suggest_float` instead.\n",
      "  trial_values[parameter] = getattr(trial, OPTUNA_DISTRIBUTIONS_MAP[SearchSpace.distribution_type])(\n",
      "e:\\projects\\telecom_scoring\\venv\\lib\\site-packages\\lightautoml\\ml_algo\\tuning\\optuna.py:231: FutureWarning: suggest_loguniform has been deprecated in v3.0.0. This feature will be removed in v6.0.0. See https://github.com/optuna/optuna/releases/tag/v3.0.0. Use :func:`~optuna.trial.Trial.suggest_float` instead.\n",
      "  trial_values[parameter] = getattr(trial, OPTUNA_DISTRIBUTIONS_MAP[SearchSpace.distribution_type])(\n",
      "e:\\projects\\telecom_scoring\\venv\\lib\\site-packages\\lightautoml\\ml_algo\\tuning\\optuna.py:231: FutureWarning: suggest_uniform has been deprecated in v3.0.0. This feature will be removed in v6.0.0. See https://github.com/optuna/optuna/releases/tag/v3.0.0. Use :func:`~optuna.trial.Trial.suggest_float` instead.\n",
      "  trial_values[parameter] = getattr(trial, OPTUNA_DISTRIBUTIONS_MAP[SearchSpace.distribution_type])(\n",
      "e:\\projects\\telecom_scoring\\venv\\lib\\site-packages\\lightautoml\\ml_algo\\tuning\\optuna.py:231: FutureWarning: suggest_loguniform has been deprecated in v3.0.0. This feature will be removed in v6.0.0. See https://github.com/optuna/optuna/releases/tag/v3.0.0. Use :func:`~optuna.trial.Trial.suggest_float` instead.\n",
      "  trial_values[parameter] = getattr(trial, OPTUNA_DISTRIBUTIONS_MAP[SearchSpace.distribution_type])(\n",
      "e:\\projects\\telecom_scoring\\venv\\lib\\site-packages\\lightautoml\\ml_algo\\tuning\\optuna.py:231: FutureWarning: suggest_uniform has been deprecated in v3.0.0. This feature will be removed in v6.0.0. See https://github.com/optuna/optuna/releases/tag/v3.0.0. Use :func:`~optuna.trial.Trial.suggest_float` instead.\n",
      "  trial_values[parameter] = getattr(trial, OPTUNA_DISTRIBUTIONS_MAP[SearchSpace.distribution_type])(\n",
      "e:\\projects\\telecom_scoring\\venv\\lib\\site-packages\\lightautoml\\ml_algo\\tuning\\optuna.py:231: FutureWarning: suggest_loguniform has been deprecated in v3.0.0. This feature will be removed in v6.0.0. See https://github.com/optuna/optuna/releases/tag/v3.0.0. Use :func:`~optuna.trial.Trial.suggest_float` instead.\n",
      "  trial_values[parameter] = getattr(trial, OPTUNA_DISTRIBUTIONS_MAP[SearchSpace.distribution_type])(\n",
      "e:\\projects\\telecom_scoring\\venv\\lib\\site-packages\\lightautoml\\ml_algo\\tuning\\optuna.py:231: FutureWarning: suggest_uniform has been deprecated in v3.0.0. This feature will be removed in v6.0.0. See https://github.com/optuna/optuna/releases/tag/v3.0.0. Use :func:`~optuna.trial.Trial.suggest_float` instead.\n",
      "  trial_values[parameter] = getattr(trial, OPTUNA_DISTRIBUTIONS_MAP[SearchSpace.distribution_type])(\n",
      "e:\\projects\\telecom_scoring\\venv\\lib\\site-packages\\lightautoml\\ml_algo\\tuning\\optuna.py:231: FutureWarning: suggest_loguniform has been deprecated in v3.0.0. This feature will be removed in v6.0.0. See https://github.com/optuna/optuna/releases/tag/v3.0.0. Use :func:`~optuna.trial.Trial.suggest_float` instead.\n",
      "  trial_values[parameter] = getattr(trial, OPTUNA_DISTRIBUTIONS_MAP[SearchSpace.distribution_type])(\n",
      "e:\\projects\\telecom_scoring\\venv\\lib\\site-packages\\lightautoml\\ml_algo\\tuning\\optuna.py:231: FutureWarning: suggest_uniform has been deprecated in v3.0.0. This feature will be removed in v6.0.0. See https://github.com/optuna/optuna/releases/tag/v3.0.0. Use :func:`~optuna.trial.Trial.suggest_float` instead.\n",
      "  trial_values[parameter] = getattr(trial, OPTUNA_DISTRIBUTIONS_MAP[SearchSpace.distribution_type])(\n",
      "e:\\projects\\telecom_scoring\\venv\\lib\\site-packages\\lightautoml\\ml_algo\\tuning\\optuna.py:231: FutureWarning: suggest_loguniform has been deprecated in v3.0.0. This feature will be removed in v6.0.0. See https://github.com/optuna/optuna/releases/tag/v3.0.0. Use :func:`~optuna.trial.Trial.suggest_float` instead.\n",
      "  trial_values[parameter] = getattr(trial, OPTUNA_DISTRIBUTIONS_MAP[SearchSpace.distribution_type])(\n",
      "e:\\projects\\telecom_scoring\\venv\\lib\\site-packages\\lightautoml\\ml_algo\\tuning\\optuna.py:231: FutureWarning: suggest_uniform has been deprecated in v3.0.0. This feature will be removed in v6.0.0. See https://github.com/optuna/optuna/releases/tag/v3.0.0. Use :func:`~optuna.trial.Trial.suggest_float` instead.\n",
      "  trial_values[parameter] = getattr(trial, OPTUNA_DISTRIBUTIONS_MAP[SearchSpace.distribution_type])(\n",
      "e:\\projects\\telecom_scoring\\venv\\lib\\site-packages\\lightautoml\\ml_algo\\tuning\\optuna.py:231: FutureWarning: suggest_loguniform has been deprecated in v3.0.0. This feature will be removed in v6.0.0. See https://github.com/optuna/optuna/releases/tag/v3.0.0. Use :func:`~optuna.trial.Trial.suggest_float` instead.\n",
      "  trial_values[parameter] = getattr(trial, OPTUNA_DISTRIBUTIONS_MAP[SearchSpace.distribution_type])(\n",
      "e:\\projects\\telecom_scoring\\venv\\lib\\site-packages\\lightautoml\\ml_algo\\tuning\\optuna.py:231: FutureWarning: suggest_uniform has been deprecated in v3.0.0. This feature will be removed in v6.0.0. See https://github.com/optuna/optuna/releases/tag/v3.0.0. Use :func:`~optuna.trial.Trial.suggest_float` instead.\n",
      "  trial_values[parameter] = getattr(trial, OPTUNA_DISTRIBUTIONS_MAP[SearchSpace.distribution_type])(\n",
      "e:\\projects\\telecom_scoring\\venv\\lib\\site-packages\\lightautoml\\ml_algo\\tuning\\optuna.py:231: FutureWarning: suggest_loguniform has been deprecated in v3.0.0. This feature will be removed in v6.0.0. See https://github.com/optuna/optuna/releases/tag/v3.0.0. Use :func:`~optuna.trial.Trial.suggest_float` instead.\n",
      "  trial_values[parameter] = getattr(trial, OPTUNA_DISTRIBUTIONS_MAP[SearchSpace.distribution_type])(\n",
      "e:\\projects\\telecom_scoring\\venv\\lib\\site-packages\\lightautoml\\ml_algo\\tuning\\optuna.py:231: FutureWarning: suggest_uniform has been deprecated in v3.0.0. This feature will be removed in v6.0.0. See https://github.com/optuna/optuna/releases/tag/v3.0.0. Use :func:`~optuna.trial.Trial.suggest_float` instead.\n",
      "  trial_values[parameter] = getattr(trial, OPTUNA_DISTRIBUTIONS_MAP[SearchSpace.distribution_type])(\n",
      "e:\\projects\\telecom_scoring\\venv\\lib\\site-packages\\lightautoml\\ml_algo\\tuning\\optuna.py:231: FutureWarning: suggest_loguniform has been deprecated in v3.0.0. This feature will be removed in v6.0.0. See https://github.com/optuna/optuna/releases/tag/v3.0.0. Use :func:`~optuna.trial.Trial.suggest_float` instead.\n",
      "  trial_values[parameter] = getattr(trial, OPTUNA_DISTRIBUTIONS_MAP[SearchSpace.distribution_type])(\n",
      "e:\\projects\\telecom_scoring\\venv\\lib\\site-packages\\lightautoml\\ml_algo\\tuning\\optuna.py:231: FutureWarning: suggest_uniform has been deprecated in v3.0.0. This feature will be removed in v6.0.0. See https://github.com/optuna/optuna/releases/tag/v3.0.0. Use :func:`~optuna.trial.Trial.suggest_float` instead.\n",
      "  trial_values[parameter] = getattr(trial, OPTUNA_DISTRIBUTIONS_MAP[SearchSpace.distribution_type])(\n",
      "e:\\projects\\telecom_scoring\\venv\\lib\\site-packages\\lightautoml\\ml_algo\\tuning\\optuna.py:231: FutureWarning: suggest_loguniform has been deprecated in v3.0.0. This feature will be removed in v6.0.0. See https://github.com/optuna/optuna/releases/tag/v3.0.0. Use :func:`~optuna.trial.Trial.suggest_float` instead.\n",
      "  trial_values[parameter] = getattr(trial, OPTUNA_DISTRIBUTIONS_MAP[SearchSpace.distribution_type])(\n",
      "e:\\projects\\telecom_scoring\\venv\\lib\\site-packages\\lightautoml\\ml_algo\\tuning\\optuna.py:231: FutureWarning: suggest_uniform has been deprecated in v3.0.0. This feature will be removed in v6.0.0. See https://github.com/optuna/optuna/releases/tag/v3.0.0. Use :func:`~optuna.trial.Trial.suggest_float` instead.\n",
      "  trial_values[parameter] = getattr(trial, OPTUNA_DISTRIBUTIONS_MAP[SearchSpace.distribution_type])(\n",
      "e:\\projects\\telecom_scoring\\venv\\lib\\site-packages\\lightautoml\\ml_algo\\tuning\\optuna.py:231: FutureWarning: suggest_loguniform has been deprecated in v3.0.0. This feature will be removed in v6.0.0. See https://github.com/optuna/optuna/releases/tag/v3.0.0. Use :func:`~optuna.trial.Trial.suggest_float` instead.\n",
      "  trial_values[parameter] = getattr(trial, OPTUNA_DISTRIBUTIONS_MAP[SearchSpace.distribution_type])(\n",
      "e:\\projects\\telecom_scoring\\venv\\lib\\site-packages\\lightautoml\\ml_algo\\tuning\\optuna.py:231: FutureWarning: suggest_uniform has been deprecated in v3.0.0. This feature will be removed in v6.0.0. See https://github.com/optuna/optuna/releases/tag/v3.0.0. Use :func:`~optuna.trial.Trial.suggest_float` instead.\n",
      "  trial_values[parameter] = getattr(trial, OPTUNA_DISTRIBUTIONS_MAP[SearchSpace.distribution_type])(\n",
      "e:\\projects\\telecom_scoring\\venv\\lib\\site-packages\\lightautoml\\ml_algo\\tuning\\optuna.py:231: FutureWarning: suggest_loguniform has been deprecated in v3.0.0. This feature will be removed in v6.0.0. See https://github.com/optuna/optuna/releases/tag/v3.0.0. Use :func:`~optuna.trial.Trial.suggest_float` instead.\n",
      "  trial_values[parameter] = getattr(trial, OPTUNA_DISTRIBUTIONS_MAP[SearchSpace.distribution_type])(\n",
      "e:\\projects\\telecom_scoring\\venv\\lib\\site-packages\\lightautoml\\ml_algo\\tuning\\optuna.py:231: FutureWarning: suggest_uniform has been deprecated in v3.0.0. This feature will be removed in v6.0.0. See https://github.com/optuna/optuna/releases/tag/v3.0.0. Use :func:`~optuna.trial.Trial.suggest_float` instead.\n",
      "  trial_values[parameter] = getattr(trial, OPTUNA_DISTRIBUTIONS_MAP[SearchSpace.distribution_type])(\n",
      "e:\\projects\\telecom_scoring\\venv\\lib\\site-packages\\lightautoml\\ml_algo\\tuning\\optuna.py:231: FutureWarning: suggest_loguniform has been deprecated in v3.0.0. This feature will be removed in v6.0.0. See https://github.com/optuna/optuna/releases/tag/v3.0.0. Use :func:`~optuna.trial.Trial.suggest_float` instead.\n",
      "  trial_values[parameter] = getattr(trial, OPTUNA_DISTRIBUTIONS_MAP[SearchSpace.distribution_type])(\n",
      "e:\\projects\\telecom_scoring\\venv\\lib\\site-packages\\lightautoml\\ml_algo\\tuning\\optuna.py:231: FutureWarning: suggest_uniform has been deprecated in v3.0.0. This feature will be removed in v6.0.0. See https://github.com/optuna/optuna/releases/tag/v3.0.0. Use :func:`~optuna.trial.Trial.suggest_float` instead.\n",
      "  trial_values[parameter] = getattr(trial, OPTUNA_DISTRIBUTIONS_MAP[SearchSpace.distribution_type])(\n",
      "e:\\projects\\telecom_scoring\\venv\\lib\\site-packages\\lightautoml\\ml_algo\\tuning\\optuna.py:231: FutureWarning: suggest_loguniform has been deprecated in v3.0.0. This feature will be removed in v6.0.0. See https://github.com/optuna/optuna/releases/tag/v3.0.0. Use :func:`~optuna.trial.Trial.suggest_float` instead.\n",
      "  trial_values[parameter] = getattr(trial, OPTUNA_DISTRIBUTIONS_MAP[SearchSpace.distribution_type])(\n",
      "e:\\projects\\telecom_scoring\\venv\\lib\\site-packages\\lightautoml\\ml_algo\\tuning\\optuna.py:231: FutureWarning: suggest_uniform has been deprecated in v3.0.0. This feature will be removed in v6.0.0. See https://github.com/optuna/optuna/releases/tag/v3.0.0. Use :func:`~optuna.trial.Trial.suggest_float` instead.\n",
      "  trial_values[parameter] = getattr(trial, OPTUNA_DISTRIBUTIONS_MAP[SearchSpace.distribution_type])(\n",
      "e:\\projects\\telecom_scoring\\venv\\lib\\site-packages\\lightautoml\\ml_algo\\tuning\\optuna.py:231: FutureWarning: suggest_loguniform has been deprecated in v3.0.0. This feature will be removed in v6.0.0. See https://github.com/optuna/optuna/releases/tag/v3.0.0. Use :func:`~optuna.trial.Trial.suggest_float` instead.\n",
      "  trial_values[parameter] = getattr(trial, OPTUNA_DISTRIBUTIONS_MAP[SearchSpace.distribution_type])(\n",
      "e:\\projects\\telecom_scoring\\venv\\lib\\site-packages\\lightautoml\\ml_algo\\tuning\\optuna.py:231: FutureWarning: suggest_uniform has been deprecated in v3.0.0. This feature will be removed in v6.0.0. See https://github.com/optuna/optuna/releases/tag/v3.0.0. Use :func:`~optuna.trial.Trial.suggest_float` instead.\n",
      "  trial_values[parameter] = getattr(trial, OPTUNA_DISTRIBUTIONS_MAP[SearchSpace.distribution_type])(\n",
      "e:\\projects\\telecom_scoring\\venv\\lib\\site-packages\\lightautoml\\ml_algo\\tuning\\optuna.py:231: FutureWarning: suggest_loguniform has been deprecated in v3.0.0. This feature will be removed in v6.0.0. See https://github.com/optuna/optuna/releases/tag/v3.0.0. Use :func:`~optuna.trial.Trial.suggest_float` instead.\n",
      "  trial_values[parameter] = getattr(trial, OPTUNA_DISTRIBUTIONS_MAP[SearchSpace.distribution_type])(\n",
      "e:\\projects\\telecom_scoring\\venv\\lib\\site-packages\\lightautoml\\ml_algo\\tuning\\optuna.py:231: FutureWarning: suggest_uniform has been deprecated in v3.0.0. This feature will be removed in v6.0.0. See https://github.com/optuna/optuna/releases/tag/v3.0.0. Use :func:`~optuna.trial.Trial.suggest_float` instead.\n",
      "  trial_values[parameter] = getattr(trial, OPTUNA_DISTRIBUTIONS_MAP[SearchSpace.distribution_type])(\n",
      "e:\\projects\\telecom_scoring\\venv\\lib\\site-packages\\lightautoml\\ml_algo\\tuning\\optuna.py:231: FutureWarning: suggest_loguniform has been deprecated in v3.0.0. This feature will be removed in v6.0.0. See https://github.com/optuna/optuna/releases/tag/v3.0.0. Use :func:`~optuna.trial.Trial.suggest_float` instead.\n",
      "  trial_values[parameter] = getattr(trial, OPTUNA_DISTRIBUTIONS_MAP[SearchSpace.distribution_type])(\n",
      "e:\\projects\\telecom_scoring\\venv\\lib\\site-packages\\lightautoml\\ml_algo\\tuning\\optuna.py:231: FutureWarning: suggest_uniform has been deprecated in v3.0.0. This feature will be removed in v6.0.0. See https://github.com/optuna/optuna/releases/tag/v3.0.0. Use :func:`~optuna.trial.Trial.suggest_float` instead.\n",
      "  trial_values[parameter] = getattr(trial, OPTUNA_DISTRIBUTIONS_MAP[SearchSpace.distribution_type])(\n",
      "e:\\projects\\telecom_scoring\\venv\\lib\\site-packages\\lightautoml\\ml_algo\\tuning\\optuna.py:231: FutureWarning: suggest_loguniform has been deprecated in v3.0.0. This feature will be removed in v6.0.0. See https://github.com/optuna/optuna/releases/tag/v3.0.0. Use :func:`~optuna.trial.Trial.suggest_float` instead.\n",
      "  trial_values[parameter] = getattr(trial, OPTUNA_DISTRIBUTIONS_MAP[SearchSpace.distribution_type])(\n",
      "e:\\projects\\telecom_scoring\\venv\\lib\\site-packages\\lightautoml\\ml_algo\\tuning\\optuna.py:231: FutureWarning: suggest_uniform has been deprecated in v3.0.0. This feature will be removed in v6.0.0. See https://github.com/optuna/optuna/releases/tag/v3.0.0. Use :func:`~optuna.trial.Trial.suggest_float` instead.\n",
      "  trial_values[parameter] = getattr(trial, OPTUNA_DISTRIBUTIONS_MAP[SearchSpace.distribution_type])(\n",
      "e:\\projects\\telecom_scoring\\venv\\lib\\site-packages\\lightautoml\\ml_algo\\tuning\\optuna.py:231: FutureWarning: suggest_loguniform has been deprecated in v3.0.0. This feature will be removed in v6.0.0. See https://github.com/optuna/optuna/releases/tag/v3.0.0. Use :func:`~optuna.trial.Trial.suggest_float` instead.\n",
      "  trial_values[parameter] = getattr(trial, OPTUNA_DISTRIBUTIONS_MAP[SearchSpace.distribution_type])(\n",
      "e:\\projects\\telecom_scoring\\venv\\lib\\site-packages\\lightautoml\\ml_algo\\tuning\\optuna.py:231: FutureWarning: suggest_uniform has been deprecated in v3.0.0. This feature will be removed in v6.0.0. See https://github.com/optuna/optuna/releases/tag/v3.0.0. Use :func:`~optuna.trial.Trial.suggest_float` instead.\n",
      "  trial_values[parameter] = getattr(trial, OPTUNA_DISTRIBUTIONS_MAP[SearchSpace.distribution_type])(\n",
      "e:\\projects\\telecom_scoring\\venv\\lib\\site-packages\\lightautoml\\ml_algo\\tuning\\optuna.py:231: FutureWarning: suggest_loguniform has been deprecated in v3.0.0. This feature will be removed in v6.0.0. See https://github.com/optuna/optuna/releases/tag/v3.0.0. Use :func:`~optuna.trial.Trial.suggest_float` instead.\n",
      "  trial_values[parameter] = getattr(trial, OPTUNA_DISTRIBUTIONS_MAP[SearchSpace.distribution_type])(\n",
      "e:\\projects\\telecom_scoring\\venv\\lib\\site-packages\\lightautoml\\ml_algo\\tuning\\optuna.py:231: FutureWarning: suggest_uniform has been deprecated in v3.0.0. This feature will be removed in v6.0.0. See https://github.com/optuna/optuna/releases/tag/v3.0.0. Use :func:`~optuna.trial.Trial.suggest_float` instead.\n",
      "  trial_values[parameter] = getattr(trial, OPTUNA_DISTRIBUTIONS_MAP[SearchSpace.distribution_type])(\n",
      "e:\\projects\\telecom_scoring\\venv\\lib\\site-packages\\lightautoml\\ml_algo\\tuning\\optuna.py:231: FutureWarning: suggest_loguniform has been deprecated in v3.0.0. This feature will be removed in v6.0.0. See https://github.com/optuna/optuna/releases/tag/v3.0.0. Use :func:`~optuna.trial.Trial.suggest_float` instead.\n",
      "  trial_values[parameter] = getattr(trial, OPTUNA_DISTRIBUTIONS_MAP[SearchSpace.distribution_type])(\n",
      "e:\\projects\\telecom_scoring\\venv\\lib\\site-packages\\lightautoml\\ml_algo\\tuning\\optuna.py:231: FutureWarning: suggest_uniform has been deprecated in v3.0.0. This feature will be removed in v6.0.0. See https://github.com/optuna/optuna/releases/tag/v3.0.0. Use :func:`~optuna.trial.Trial.suggest_float` instead.\n",
      "  trial_values[parameter] = getattr(trial, OPTUNA_DISTRIBUTIONS_MAP[SearchSpace.distribution_type])(\n",
      "e:\\projects\\telecom_scoring\\venv\\lib\\site-packages\\lightautoml\\ml_algo\\tuning\\optuna.py:231: FutureWarning: suggest_loguniform has been deprecated in v3.0.0. This feature will be removed in v6.0.0. See https://github.com/optuna/optuna/releases/tag/v3.0.0. Use :func:`~optuna.trial.Trial.suggest_float` instead.\n",
      "  trial_values[parameter] = getattr(trial, OPTUNA_DISTRIBUTIONS_MAP[SearchSpace.distribution_type])(\n",
      "e:\\projects\\telecom_scoring\\venv\\lib\\site-packages\\lightautoml\\ml_algo\\tuning\\optuna.py:231: FutureWarning: suggest_uniform has been deprecated in v3.0.0. This feature will be removed in v6.0.0. See https://github.com/optuna/optuna/releases/tag/v3.0.0. Use :func:`~optuna.trial.Trial.suggest_float` instead.\n",
      "  trial_values[parameter] = getattr(trial, OPTUNA_DISTRIBUTIONS_MAP[SearchSpace.distribution_type])(\n",
      "e:\\projects\\telecom_scoring\\venv\\lib\\site-packages\\lightautoml\\ml_algo\\tuning\\optuna.py:231: FutureWarning: suggest_loguniform has been deprecated in v3.0.0. This feature will be removed in v6.0.0. See https://github.com/optuna/optuna/releases/tag/v3.0.0. Use :func:`~optuna.trial.Trial.suggest_float` instead.\n",
      "  trial_values[parameter] = getattr(trial, OPTUNA_DISTRIBUTIONS_MAP[SearchSpace.distribution_type])(\n",
      "e:\\projects\\telecom_scoring\\venv\\lib\\site-packages\\lightautoml\\ml_algo\\tuning\\optuna.py:231: FutureWarning: suggest_uniform has been deprecated in v3.0.0. This feature will be removed in v6.0.0. See https://github.com/optuna/optuna/releases/tag/v3.0.0. Use :func:`~optuna.trial.Trial.suggest_float` instead.\n",
      "  trial_values[parameter] = getattr(trial, OPTUNA_DISTRIBUTIONS_MAP[SearchSpace.distribution_type])(\n",
      "e:\\projects\\telecom_scoring\\venv\\lib\\site-packages\\lightautoml\\ml_algo\\tuning\\optuna.py:231: FutureWarning: suggest_loguniform has been deprecated in v3.0.0. This feature will be removed in v6.0.0. See https://github.com/optuna/optuna/releases/tag/v3.0.0. Use :func:`~optuna.trial.Trial.suggest_float` instead.\n",
      "  trial_values[parameter] = getattr(trial, OPTUNA_DISTRIBUTIONS_MAP[SearchSpace.distribution_type])(\n",
      "e:\\projects\\telecom_scoring\\venv\\lib\\site-packages\\lightautoml\\ml_algo\\tuning\\optuna.py:231: FutureWarning: suggest_uniform has been deprecated in v3.0.0. This feature will be removed in v6.0.0. See https://github.com/optuna/optuna/releases/tag/v3.0.0. Use :func:`~optuna.trial.Trial.suggest_float` instead.\n",
      "  trial_values[parameter] = getattr(trial, OPTUNA_DISTRIBUTIONS_MAP[SearchSpace.distribution_type])(\n",
      "e:\\projects\\telecom_scoring\\venv\\lib\\site-packages\\lightautoml\\ml_algo\\tuning\\optuna.py:231: FutureWarning: suggest_loguniform has been deprecated in v3.0.0. This feature will be removed in v6.0.0. See https://github.com/optuna/optuna/releases/tag/v3.0.0. Use :func:`~optuna.trial.Trial.suggest_float` instead.\n",
      "  trial_values[parameter] = getattr(trial, OPTUNA_DISTRIBUTIONS_MAP[SearchSpace.distribution_type])(\n",
      "e:\\projects\\telecom_scoring\\venv\\lib\\site-packages\\lightautoml\\ml_algo\\tuning\\optuna.py:231: FutureWarning: suggest_uniform has been deprecated in v3.0.0. This feature will be removed in v6.0.0. See https://github.com/optuna/optuna/releases/tag/v3.0.0. Use :func:`~optuna.trial.Trial.suggest_float` instead.\n",
      "  trial_values[parameter] = getattr(trial, OPTUNA_DISTRIBUTIONS_MAP[SearchSpace.distribution_type])(\n",
      "e:\\projects\\telecom_scoring\\venv\\lib\\site-packages\\lightautoml\\ml_algo\\tuning\\optuna.py:231: FutureWarning: suggest_loguniform has been deprecated in v3.0.0. This feature will be removed in v6.0.0. See https://github.com/optuna/optuna/releases/tag/v3.0.0. Use :func:`~optuna.trial.Trial.suggest_float` instead.\n",
      "  trial_values[parameter] = getattr(trial, OPTUNA_DISTRIBUTIONS_MAP[SearchSpace.distribution_type])(\n",
      "e:\\projects\\telecom_scoring\\venv\\lib\\site-packages\\lightautoml\\ml_algo\\tuning\\optuna.py:231: FutureWarning: suggest_uniform has been deprecated in v3.0.0. This feature will be removed in v6.0.0. See https://github.com/optuna/optuna/releases/tag/v3.0.0. Use :func:`~optuna.trial.Trial.suggest_float` instead.\n",
      "  trial_values[parameter] = getattr(trial, OPTUNA_DISTRIBUTIONS_MAP[SearchSpace.distribution_type])(\n",
      "e:\\projects\\telecom_scoring\\venv\\lib\\site-packages\\lightautoml\\ml_algo\\tuning\\optuna.py:231: FutureWarning: suggest_loguniform has been deprecated in v3.0.0. This feature will be removed in v6.0.0. See https://github.com/optuna/optuna/releases/tag/v3.0.0. Use :func:`~optuna.trial.Trial.suggest_float` instead.\n",
      "  trial_values[parameter] = getattr(trial, OPTUNA_DISTRIBUTIONS_MAP[SearchSpace.distribution_type])(\n",
      "e:\\projects\\telecom_scoring\\venv\\lib\\site-packages\\lightautoml\\ml_algo\\tuning\\optuna.py:231: FutureWarning: suggest_uniform has been deprecated in v3.0.0. This feature will be removed in v6.0.0. See https://github.com/optuna/optuna/releases/tag/v3.0.0. Use :func:`~optuna.trial.Trial.suggest_float` instead.\n",
      "  trial_values[parameter] = getattr(trial, OPTUNA_DISTRIBUTIONS_MAP[SearchSpace.distribution_type])(\n",
      "e:\\projects\\telecom_scoring\\venv\\lib\\site-packages\\lightautoml\\ml_algo\\tuning\\optuna.py:231: FutureWarning: suggest_loguniform has been deprecated in v3.0.0. This feature will be removed in v6.0.0. See https://github.com/optuna/optuna/releases/tag/v3.0.0. Use :func:`~optuna.trial.Trial.suggest_float` instead.\n",
      "  trial_values[parameter] = getattr(trial, OPTUNA_DISTRIBUTIONS_MAP[SearchSpace.distribution_type])(\n",
      "e:\\projects\\telecom_scoring\\venv\\lib\\site-packages\\lightautoml\\ml_algo\\tuning\\optuna.py:231: FutureWarning: suggest_uniform has been deprecated in v3.0.0. This feature will be removed in v6.0.0. See https://github.com/optuna/optuna/releases/tag/v3.0.0. Use :func:`~optuna.trial.Trial.suggest_float` instead.\n",
      "  trial_values[parameter] = getattr(trial, OPTUNA_DISTRIBUTIONS_MAP[SearchSpace.distribution_type])(\n",
      "e:\\projects\\telecom_scoring\\venv\\lib\\site-packages\\lightautoml\\ml_algo\\tuning\\optuna.py:231: FutureWarning: suggest_loguniform has been deprecated in v3.0.0. This feature will be removed in v6.0.0. See https://github.com/optuna/optuna/releases/tag/v3.0.0. Use :func:`~optuna.trial.Trial.suggest_float` instead.\n",
      "  trial_values[parameter] = getattr(trial, OPTUNA_DISTRIBUTIONS_MAP[SearchSpace.distribution_type])(\n",
      "e:\\projects\\telecom_scoring\\venv\\lib\\site-packages\\lightautoml\\ml_algo\\tuning\\optuna.py:231: FutureWarning: suggest_uniform has been deprecated in v3.0.0. This feature will be removed in v6.0.0. See https://github.com/optuna/optuna/releases/tag/v3.0.0. Use :func:`~optuna.trial.Trial.suggest_float` instead.\n",
      "  trial_values[parameter] = getattr(trial, OPTUNA_DISTRIBUTIONS_MAP[SearchSpace.distribution_type])(\n",
      "e:\\projects\\telecom_scoring\\venv\\lib\\site-packages\\lightautoml\\ml_algo\\tuning\\optuna.py:231: FutureWarning: suggest_loguniform has been deprecated in v3.0.0. This feature will be removed in v6.0.0. See https://github.com/optuna/optuna/releases/tag/v3.0.0. Use :func:`~optuna.trial.Trial.suggest_float` instead.\n",
      "  trial_values[parameter] = getattr(trial, OPTUNA_DISTRIBUTIONS_MAP[SearchSpace.distribution_type])(\n",
      "e:\\projects\\telecom_scoring\\venv\\lib\\site-packages\\lightautoml\\ml_algo\\tuning\\optuna.py:231: FutureWarning: suggest_uniform has been deprecated in v3.0.0. This feature will be removed in v6.0.0. See https://github.com/optuna/optuna/releases/tag/v3.0.0. Use :func:`~optuna.trial.Trial.suggest_float` instead.\n",
      "  trial_values[parameter] = getattr(trial, OPTUNA_DISTRIBUTIONS_MAP[SearchSpace.distribution_type])(\n",
      "e:\\projects\\telecom_scoring\\venv\\lib\\site-packages\\lightautoml\\ml_algo\\tuning\\optuna.py:231: FutureWarning: suggest_loguniform has been deprecated in v3.0.0. This feature will be removed in v6.0.0. See https://github.com/optuna/optuna/releases/tag/v3.0.0. Use :func:`~optuna.trial.Trial.suggest_float` instead.\n",
      "  trial_values[parameter] = getattr(trial, OPTUNA_DISTRIBUTIONS_MAP[SearchSpace.distribution_type])(\n",
      "e:\\projects\\telecom_scoring\\venv\\lib\\site-packages\\lightautoml\\ml_algo\\tuning\\optuna.py:231: FutureWarning: suggest_uniform has been deprecated in v3.0.0. This feature will be removed in v6.0.0. See https://github.com/optuna/optuna/releases/tag/v3.0.0. Use :func:`~optuna.trial.Trial.suggest_float` instead.\n",
      "  trial_values[parameter] = getattr(trial, OPTUNA_DISTRIBUTIONS_MAP[SearchSpace.distribution_type])(\n",
      "e:\\projects\\telecom_scoring\\venv\\lib\\site-packages\\lightautoml\\ml_algo\\tuning\\optuna.py:231: FutureWarning: suggest_loguniform has been deprecated in v3.0.0. This feature will be removed in v6.0.0. See https://github.com/optuna/optuna/releases/tag/v3.0.0. Use :func:`~optuna.trial.Trial.suggest_float` instead.\n",
      "  trial_values[parameter] = getattr(trial, OPTUNA_DISTRIBUTIONS_MAP[SearchSpace.distribution_type])(\n",
      "e:\\projects\\telecom_scoring\\venv\\lib\\site-packages\\lightautoml\\ml_algo\\tuning\\optuna.py:231: FutureWarning: suggest_uniform has been deprecated in v3.0.0. This feature will be removed in v6.0.0. See https://github.com/optuna/optuna/releases/tag/v3.0.0. Use :func:`~optuna.trial.Trial.suggest_float` instead.\n",
      "  trial_values[parameter] = getattr(trial, OPTUNA_DISTRIBUTIONS_MAP[SearchSpace.distribution_type])(\n",
      "e:\\projects\\telecom_scoring\\venv\\lib\\site-packages\\lightautoml\\ml_algo\\tuning\\optuna.py:231: FutureWarning: suggest_loguniform has been deprecated in v3.0.0. This feature will be removed in v6.0.0. See https://github.com/optuna/optuna/releases/tag/v3.0.0. Use :func:`~optuna.trial.Trial.suggest_float` instead.\n",
      "  trial_values[parameter] = getattr(trial, OPTUNA_DISTRIBUTIONS_MAP[SearchSpace.distribution_type])(\n",
      "e:\\projects\\telecom_scoring\\venv\\lib\\site-packages\\lightautoml\\ml_algo\\tuning\\optuna.py:231: FutureWarning: suggest_uniform has been deprecated in v3.0.0. This feature will be removed in v6.0.0. See https://github.com/optuna/optuna/releases/tag/v3.0.0. Use :func:`~optuna.trial.Trial.suggest_float` instead.\n",
      "  trial_values[parameter] = getattr(trial, OPTUNA_DISTRIBUTIONS_MAP[SearchSpace.distribution_type])(\n",
      "e:\\projects\\telecom_scoring\\venv\\lib\\site-packages\\lightautoml\\ml_algo\\tuning\\optuna.py:231: FutureWarning: suggest_loguniform has been deprecated in v3.0.0. This feature will be removed in v6.0.0. See https://github.com/optuna/optuna/releases/tag/v3.0.0. Use :func:`~optuna.trial.Trial.suggest_float` instead.\n",
      "  trial_values[parameter] = getattr(trial, OPTUNA_DISTRIBUTIONS_MAP[SearchSpace.distribution_type])(\n",
      "e:\\projects\\telecom_scoring\\venv\\lib\\site-packages\\lightautoml\\ml_algo\\tuning\\optuna.py:231: FutureWarning: suggest_uniform has been deprecated in v3.0.0. This feature will be removed in v6.0.0. See https://github.com/optuna/optuna/releases/tag/v3.0.0. Use :func:`~optuna.trial.Trial.suggest_float` instead.\n",
      "  trial_values[parameter] = getattr(trial, OPTUNA_DISTRIBUTIONS_MAP[SearchSpace.distribution_type])(\n",
      "e:\\projects\\telecom_scoring\\venv\\lib\\site-packages\\lightautoml\\ml_algo\\tuning\\optuna.py:231: FutureWarning: suggest_loguniform has been deprecated in v3.0.0. This feature will be removed in v6.0.0. See https://github.com/optuna/optuna/releases/tag/v3.0.0. Use :func:`~optuna.trial.Trial.suggest_float` instead.\n",
      "  trial_values[parameter] = getattr(trial, OPTUNA_DISTRIBUTIONS_MAP[SearchSpace.distribution_type])(\n",
      "e:\\projects\\telecom_scoring\\venv\\lib\\site-packages\\lightautoml\\ml_algo\\tuning\\optuna.py:231: FutureWarning: suggest_uniform has been deprecated in v3.0.0. This feature will be removed in v6.0.0. See https://github.com/optuna/optuna/releases/tag/v3.0.0. Use :func:`~optuna.trial.Trial.suggest_float` instead.\n",
      "  trial_values[parameter] = getattr(trial, OPTUNA_DISTRIBUTIONS_MAP[SearchSpace.distribution_type])(\n",
      "e:\\projects\\telecom_scoring\\venv\\lib\\site-packages\\lightautoml\\ml_algo\\tuning\\optuna.py:231: FutureWarning: suggest_loguniform has been deprecated in v3.0.0. This feature will be removed in v6.0.0. See https://github.com/optuna/optuna/releases/tag/v3.0.0. Use :func:`~optuna.trial.Trial.suggest_float` instead.\n",
      "  trial_values[parameter] = getattr(trial, OPTUNA_DISTRIBUTIONS_MAP[SearchSpace.distribution_type])(\n",
      "e:\\projects\\telecom_scoring\\venv\\lib\\site-packages\\lightautoml\\ml_algo\\tuning\\optuna.py:231: FutureWarning: suggest_uniform has been deprecated in v3.0.0. This feature will be removed in v6.0.0. See https://github.com/optuna/optuna/releases/tag/v3.0.0. Use :func:`~optuna.trial.Trial.suggest_float` instead.\n",
      "  trial_values[parameter] = getattr(trial, OPTUNA_DISTRIBUTIONS_MAP[SearchSpace.distribution_type])(\n",
      "e:\\projects\\telecom_scoring\\venv\\lib\\site-packages\\lightautoml\\ml_algo\\tuning\\optuna.py:231: FutureWarning: suggest_loguniform has been deprecated in v3.0.0. This feature will be removed in v6.0.0. See https://github.com/optuna/optuna/releases/tag/v3.0.0. Use :func:`~optuna.trial.Trial.suggest_float` instead.\n",
      "  trial_values[parameter] = getattr(trial, OPTUNA_DISTRIBUTIONS_MAP[SearchSpace.distribution_type])(\n"
     ]
    },
    {
     "name": "stdout",
     "output_type": "stream",
     "text": [
      "[21:40:25] Hyperparameters optimization for \u001B[1mLvl_0_Pipe_1_Mod_1_Tuned_LightGBM\u001B[0m completed\n",
      "[21:40:25] Start fitting \u001B[1mLvl_0_Pipe_1_Mod_1_Tuned_LightGBM\u001B[0m ...\n",
      "[21:40:27] Fitting \u001B[1mLvl_0_Pipe_1_Mod_1_Tuned_LightGBM\u001B[0m finished. score = \u001B[1m0.7358471932487534\u001B[0m\n",
      "[21:40:27] \u001B[1mLvl_0_Pipe_1_Mod_1_Tuned_LightGBM\u001B[0m fitting and predicting completed\n",
      "[21:40:27] Start fitting \u001B[1mLvl_0_Pipe_1_Mod_2_CatBoost\u001B[0m ...\n",
      "[21:40:30] Fitting \u001B[1mLvl_0_Pipe_1_Mod_2_CatBoost\u001B[0m finished. score = \u001B[1m0.7133599032443971\u001B[0m\n",
      "[21:40:30] \u001B[1mLvl_0_Pipe_1_Mod_2_CatBoost\u001B[0m fitting and predicting completed\n",
      "[21:40:30] Start hyperparameters optimization for \u001B[1mLvl_0_Pipe_1_Mod_3_Tuned_CatBoost\u001B[0m ... Time budget is 165.35 secs\n"
     ]
    },
    {
     "name": "stderr",
     "output_type": "stream",
     "text": [
      "e:\\projects\\telecom_scoring\\venv\\lib\\site-packages\\lightautoml\\ml_algo\\tuning\\optuna.py:231: FutureWarning: suggest_loguniform has been deprecated in v3.0.0. This feature will be removed in v6.0.0. See https://github.com/optuna/optuna/releases/tag/v3.0.0. Use :func:`~optuna.trial.Trial.suggest_float` instead.\n",
      "  trial_values[parameter] = getattr(trial, OPTUNA_DISTRIBUTIONS_MAP[SearchSpace.distribution_type])(\n",
      "e:\\projects\\telecom_scoring\\venv\\lib\\site-packages\\lightautoml\\ml_algo\\tuning\\optuna.py:231: FutureWarning: suggest_loguniform has been deprecated in v3.0.0. This feature will be removed in v6.0.0. See https://github.com/optuna/optuna/releases/tag/v3.0.0. Use :func:`~optuna.trial.Trial.suggest_float` instead.\n",
      "  trial_values[parameter] = getattr(trial, OPTUNA_DISTRIBUTIONS_MAP[SearchSpace.distribution_type])(\n",
      "e:\\projects\\telecom_scoring\\venv\\lib\\site-packages\\lightautoml\\ml_algo\\tuning\\optuna.py:231: FutureWarning: suggest_loguniform has been deprecated in v3.0.0. This feature will be removed in v6.0.0. See https://github.com/optuna/optuna/releases/tag/v3.0.0. Use :func:`~optuna.trial.Trial.suggest_float` instead.\n",
      "  trial_values[parameter] = getattr(trial, OPTUNA_DISTRIBUTIONS_MAP[SearchSpace.distribution_type])(\n",
      "e:\\projects\\telecom_scoring\\venv\\lib\\site-packages\\lightautoml\\ml_algo\\tuning\\optuna.py:231: FutureWarning: suggest_loguniform has been deprecated in v3.0.0. This feature will be removed in v6.0.0. See https://github.com/optuna/optuna/releases/tag/v3.0.0. Use :func:`~optuna.trial.Trial.suggest_float` instead.\n",
      "  trial_values[parameter] = getattr(trial, OPTUNA_DISTRIBUTIONS_MAP[SearchSpace.distribution_type])(\n",
      "e:\\projects\\telecom_scoring\\venv\\lib\\site-packages\\lightautoml\\ml_algo\\tuning\\optuna.py:231: FutureWarning: suggest_loguniform has been deprecated in v3.0.0. This feature will be removed in v6.0.0. See https://github.com/optuna/optuna/releases/tag/v3.0.0. Use :func:`~optuna.trial.Trial.suggest_float` instead.\n",
      "  trial_values[parameter] = getattr(trial, OPTUNA_DISTRIBUTIONS_MAP[SearchSpace.distribution_type])(\n",
      "e:\\projects\\telecom_scoring\\venv\\lib\\site-packages\\lightautoml\\ml_algo\\tuning\\optuna.py:231: FutureWarning: suggest_loguniform has been deprecated in v3.0.0. This feature will be removed in v6.0.0. See https://github.com/optuna/optuna/releases/tag/v3.0.0. Use :func:`~optuna.trial.Trial.suggest_float` instead.\n",
      "  trial_values[parameter] = getattr(trial, OPTUNA_DISTRIBUTIONS_MAP[SearchSpace.distribution_type])(\n",
      "e:\\projects\\telecom_scoring\\venv\\lib\\site-packages\\lightautoml\\ml_algo\\tuning\\optuna.py:231: FutureWarning: suggest_loguniform has been deprecated in v3.0.0. This feature will be removed in v6.0.0. See https://github.com/optuna/optuna/releases/tag/v3.0.0. Use :func:`~optuna.trial.Trial.suggest_float` instead.\n",
      "  trial_values[parameter] = getattr(trial, OPTUNA_DISTRIBUTIONS_MAP[SearchSpace.distribution_type])(\n",
      "e:\\projects\\telecom_scoring\\venv\\lib\\site-packages\\lightautoml\\ml_algo\\tuning\\optuna.py:231: FutureWarning: suggest_loguniform has been deprecated in v3.0.0. This feature will be removed in v6.0.0. See https://github.com/optuna/optuna/releases/tag/v3.0.0. Use :func:`~optuna.trial.Trial.suggest_float` instead.\n",
      "  trial_values[parameter] = getattr(trial, OPTUNA_DISTRIBUTIONS_MAP[SearchSpace.distribution_type])(\n",
      "e:\\projects\\telecom_scoring\\venv\\lib\\site-packages\\lightautoml\\ml_algo\\tuning\\optuna.py:231: FutureWarning: suggest_loguniform has been deprecated in v3.0.0. This feature will be removed in v6.0.0. See https://github.com/optuna/optuna/releases/tag/v3.0.0. Use :func:`~optuna.trial.Trial.suggest_float` instead.\n",
      "  trial_values[parameter] = getattr(trial, OPTUNA_DISTRIBUTIONS_MAP[SearchSpace.distribution_type])(\n",
      "e:\\projects\\telecom_scoring\\venv\\lib\\site-packages\\lightautoml\\ml_algo\\tuning\\optuna.py:231: FutureWarning: suggest_loguniform has been deprecated in v3.0.0. This feature will be removed in v6.0.0. See https://github.com/optuna/optuna/releases/tag/v3.0.0. Use :func:`~optuna.trial.Trial.suggest_float` instead.\n",
      "  trial_values[parameter] = getattr(trial, OPTUNA_DISTRIBUTIONS_MAP[SearchSpace.distribution_type])(\n",
      "e:\\projects\\telecom_scoring\\venv\\lib\\site-packages\\lightautoml\\ml_algo\\tuning\\optuna.py:231: FutureWarning: suggest_loguniform has been deprecated in v3.0.0. This feature will be removed in v6.0.0. See https://github.com/optuna/optuna/releases/tag/v3.0.0. Use :func:`~optuna.trial.Trial.suggest_float` instead.\n",
      "  trial_values[parameter] = getattr(trial, OPTUNA_DISTRIBUTIONS_MAP[SearchSpace.distribution_type])(\n",
      "e:\\projects\\telecom_scoring\\venv\\lib\\site-packages\\lightautoml\\ml_algo\\tuning\\optuna.py:231: FutureWarning: suggest_loguniform has been deprecated in v3.0.0. This feature will be removed in v6.0.0. See https://github.com/optuna/optuna/releases/tag/v3.0.0. Use :func:`~optuna.trial.Trial.suggest_float` instead.\n",
      "  trial_values[parameter] = getattr(trial, OPTUNA_DISTRIBUTIONS_MAP[SearchSpace.distribution_type])(\n",
      "e:\\projects\\telecom_scoring\\venv\\lib\\site-packages\\lightautoml\\ml_algo\\tuning\\optuna.py:231: FutureWarning: suggest_loguniform has been deprecated in v3.0.0. This feature will be removed in v6.0.0. See https://github.com/optuna/optuna/releases/tag/v3.0.0. Use :func:`~optuna.trial.Trial.suggest_float` instead.\n",
      "  trial_values[parameter] = getattr(trial, OPTUNA_DISTRIBUTIONS_MAP[SearchSpace.distribution_type])(\n",
      "e:\\projects\\telecom_scoring\\venv\\lib\\site-packages\\lightautoml\\ml_algo\\tuning\\optuna.py:231: FutureWarning: suggest_loguniform has been deprecated in v3.0.0. This feature will be removed in v6.0.0. See https://github.com/optuna/optuna/releases/tag/v3.0.0. Use :func:`~optuna.trial.Trial.suggest_float` instead.\n",
      "  trial_values[parameter] = getattr(trial, OPTUNA_DISTRIBUTIONS_MAP[SearchSpace.distribution_type])(\n",
      "e:\\projects\\telecom_scoring\\venv\\lib\\site-packages\\lightautoml\\ml_algo\\tuning\\optuna.py:231: FutureWarning: suggest_loguniform has been deprecated in v3.0.0. This feature will be removed in v6.0.0. See https://github.com/optuna/optuna/releases/tag/v3.0.0. Use :func:`~optuna.trial.Trial.suggest_float` instead.\n",
      "  trial_values[parameter] = getattr(trial, OPTUNA_DISTRIBUTIONS_MAP[SearchSpace.distribution_type])(\n",
      "e:\\projects\\telecom_scoring\\venv\\lib\\site-packages\\lightautoml\\ml_algo\\tuning\\optuna.py:231: FutureWarning: suggest_loguniform has been deprecated in v3.0.0. This feature will be removed in v6.0.0. See https://github.com/optuna/optuna/releases/tag/v3.0.0. Use :func:`~optuna.trial.Trial.suggest_float` instead.\n",
      "  trial_values[parameter] = getattr(trial, OPTUNA_DISTRIBUTIONS_MAP[SearchSpace.distribution_type])(\n",
      "e:\\projects\\telecom_scoring\\venv\\lib\\site-packages\\lightautoml\\ml_algo\\tuning\\optuna.py:231: FutureWarning: suggest_loguniform has been deprecated in v3.0.0. This feature will be removed in v6.0.0. See https://github.com/optuna/optuna/releases/tag/v3.0.0. Use :func:`~optuna.trial.Trial.suggest_float` instead.\n",
      "  trial_values[parameter] = getattr(trial, OPTUNA_DISTRIBUTIONS_MAP[SearchSpace.distribution_type])(\n",
      "e:\\projects\\telecom_scoring\\venv\\lib\\site-packages\\lightautoml\\ml_algo\\tuning\\optuna.py:231: FutureWarning: suggest_loguniform has been deprecated in v3.0.0. This feature will be removed in v6.0.0. See https://github.com/optuna/optuna/releases/tag/v3.0.0. Use :func:`~optuna.trial.Trial.suggest_float` instead.\n",
      "  trial_values[parameter] = getattr(trial, OPTUNA_DISTRIBUTIONS_MAP[SearchSpace.distribution_type])(\n",
      "e:\\projects\\telecom_scoring\\venv\\lib\\site-packages\\lightautoml\\ml_algo\\tuning\\optuna.py:231: FutureWarning: suggest_loguniform has been deprecated in v3.0.0. This feature will be removed in v6.0.0. See https://github.com/optuna/optuna/releases/tag/v3.0.0. Use :func:`~optuna.trial.Trial.suggest_float` instead.\n",
      "  trial_values[parameter] = getattr(trial, OPTUNA_DISTRIBUTIONS_MAP[SearchSpace.distribution_type])(\n",
      "e:\\projects\\telecom_scoring\\venv\\lib\\site-packages\\lightautoml\\ml_algo\\tuning\\optuna.py:231: FutureWarning: suggest_loguniform has been deprecated in v3.0.0. This feature will be removed in v6.0.0. See https://github.com/optuna/optuna/releases/tag/v3.0.0. Use :func:`~optuna.trial.Trial.suggest_float` instead.\n",
      "  trial_values[parameter] = getattr(trial, OPTUNA_DISTRIBUTIONS_MAP[SearchSpace.distribution_type])(\n",
      "e:\\projects\\telecom_scoring\\venv\\lib\\site-packages\\lightautoml\\ml_algo\\tuning\\optuna.py:231: FutureWarning: suggest_loguniform has been deprecated in v3.0.0. This feature will be removed in v6.0.0. See https://github.com/optuna/optuna/releases/tag/v3.0.0. Use :func:`~optuna.trial.Trial.suggest_float` instead.\n",
      "  trial_values[parameter] = getattr(trial, OPTUNA_DISTRIBUTIONS_MAP[SearchSpace.distribution_type])(\n",
      "e:\\projects\\telecom_scoring\\venv\\lib\\site-packages\\lightautoml\\ml_algo\\tuning\\optuna.py:231: FutureWarning: suggest_loguniform has been deprecated in v3.0.0. This feature will be removed in v6.0.0. See https://github.com/optuna/optuna/releases/tag/v3.0.0. Use :func:`~optuna.trial.Trial.suggest_float` instead.\n",
      "  trial_values[parameter] = getattr(trial, OPTUNA_DISTRIBUTIONS_MAP[SearchSpace.distribution_type])(\n",
      "e:\\projects\\telecom_scoring\\venv\\lib\\site-packages\\lightautoml\\ml_algo\\tuning\\optuna.py:231: FutureWarning: suggest_loguniform has been deprecated in v3.0.0. This feature will be removed in v6.0.0. See https://github.com/optuna/optuna/releases/tag/v3.0.0. Use :func:`~optuna.trial.Trial.suggest_float` instead.\n",
      "  trial_values[parameter] = getattr(trial, OPTUNA_DISTRIBUTIONS_MAP[SearchSpace.distribution_type])(\n",
      "e:\\projects\\telecom_scoring\\venv\\lib\\site-packages\\lightautoml\\ml_algo\\tuning\\optuna.py:231: FutureWarning: suggest_loguniform has been deprecated in v3.0.0. This feature will be removed in v6.0.0. See https://github.com/optuna/optuna/releases/tag/v3.0.0. Use :func:`~optuna.trial.Trial.suggest_float` instead.\n",
      "  trial_values[parameter] = getattr(trial, OPTUNA_DISTRIBUTIONS_MAP[SearchSpace.distribution_type])(\n",
      "e:\\projects\\telecom_scoring\\venv\\lib\\site-packages\\lightautoml\\ml_algo\\tuning\\optuna.py:231: FutureWarning: suggest_loguniform has been deprecated in v3.0.0. This feature will be removed in v6.0.0. See https://github.com/optuna/optuna/releases/tag/v3.0.0. Use :func:`~optuna.trial.Trial.suggest_float` instead.\n",
      "  trial_values[parameter] = getattr(trial, OPTUNA_DISTRIBUTIONS_MAP[SearchSpace.distribution_type])(\n",
      "e:\\projects\\telecom_scoring\\venv\\lib\\site-packages\\lightautoml\\ml_algo\\tuning\\optuna.py:231: FutureWarning: suggest_loguniform has been deprecated in v3.0.0. This feature will be removed in v6.0.0. See https://github.com/optuna/optuna/releases/tag/v3.0.0. Use :func:`~optuna.trial.Trial.suggest_float` instead.\n",
      "  trial_values[parameter] = getattr(trial, OPTUNA_DISTRIBUTIONS_MAP[SearchSpace.distribution_type])(\n",
      "e:\\projects\\telecom_scoring\\venv\\lib\\site-packages\\lightautoml\\ml_algo\\tuning\\optuna.py:231: FutureWarning: suggest_loguniform has been deprecated in v3.0.0. This feature will be removed in v6.0.0. See https://github.com/optuna/optuna/releases/tag/v3.0.0. Use :func:`~optuna.trial.Trial.suggest_float` instead.\n",
      "  trial_values[parameter] = getattr(trial, OPTUNA_DISTRIBUTIONS_MAP[SearchSpace.distribution_type])(\n",
      "e:\\projects\\telecom_scoring\\venv\\lib\\site-packages\\lightautoml\\ml_algo\\tuning\\optuna.py:231: FutureWarning: suggest_loguniform has been deprecated in v3.0.0. This feature will be removed in v6.0.0. See https://github.com/optuna/optuna/releases/tag/v3.0.0. Use :func:`~optuna.trial.Trial.suggest_float` instead.\n",
      "  trial_values[parameter] = getattr(trial, OPTUNA_DISTRIBUTIONS_MAP[SearchSpace.distribution_type])(\n",
      "e:\\projects\\telecom_scoring\\venv\\lib\\site-packages\\lightautoml\\ml_algo\\tuning\\optuna.py:231: FutureWarning: suggest_loguniform has been deprecated in v3.0.0. This feature will be removed in v6.0.0. See https://github.com/optuna/optuna/releases/tag/v3.0.0. Use :func:`~optuna.trial.Trial.suggest_float` instead.\n",
      "  trial_values[parameter] = getattr(trial, OPTUNA_DISTRIBUTIONS_MAP[SearchSpace.distribution_type])(\n",
      "e:\\projects\\telecom_scoring\\venv\\lib\\site-packages\\lightautoml\\ml_algo\\tuning\\optuna.py:231: FutureWarning: suggest_loguniform has been deprecated in v3.0.0. This feature will be removed in v6.0.0. See https://github.com/optuna/optuna/releases/tag/v3.0.0. Use :func:`~optuna.trial.Trial.suggest_float` instead.\n",
      "  trial_values[parameter] = getattr(trial, OPTUNA_DISTRIBUTIONS_MAP[SearchSpace.distribution_type])(\n",
      "e:\\projects\\telecom_scoring\\venv\\lib\\site-packages\\lightautoml\\ml_algo\\tuning\\optuna.py:231: FutureWarning: suggest_loguniform has been deprecated in v3.0.0. This feature will be removed in v6.0.0. See https://github.com/optuna/optuna/releases/tag/v3.0.0. Use :func:`~optuna.trial.Trial.suggest_float` instead.\n",
      "  trial_values[parameter] = getattr(trial, OPTUNA_DISTRIBUTIONS_MAP[SearchSpace.distribution_type])(\n",
      "e:\\projects\\telecom_scoring\\venv\\lib\\site-packages\\lightautoml\\ml_algo\\tuning\\optuna.py:231: FutureWarning: suggest_loguniform has been deprecated in v3.0.0. This feature will be removed in v6.0.0. See https://github.com/optuna/optuna/releases/tag/v3.0.0. Use :func:`~optuna.trial.Trial.suggest_float` instead.\n",
      "  trial_values[parameter] = getattr(trial, OPTUNA_DISTRIBUTIONS_MAP[SearchSpace.distribution_type])(\n",
      "e:\\projects\\telecom_scoring\\venv\\lib\\site-packages\\lightautoml\\ml_algo\\tuning\\optuna.py:231: FutureWarning: suggest_loguniform has been deprecated in v3.0.0. This feature will be removed in v6.0.0. See https://github.com/optuna/optuna/releases/tag/v3.0.0. Use :func:`~optuna.trial.Trial.suggest_float` instead.\n",
      "  trial_values[parameter] = getattr(trial, OPTUNA_DISTRIBUTIONS_MAP[SearchSpace.distribution_type])(\n",
      "e:\\projects\\telecom_scoring\\venv\\lib\\site-packages\\lightautoml\\ml_algo\\tuning\\optuna.py:231: FutureWarning: suggest_loguniform has been deprecated in v3.0.0. This feature will be removed in v6.0.0. See https://github.com/optuna/optuna/releases/tag/v3.0.0. Use :func:`~optuna.trial.Trial.suggest_float` instead.\n",
      "  trial_values[parameter] = getattr(trial, OPTUNA_DISTRIBUTIONS_MAP[SearchSpace.distribution_type])(\n",
      "e:\\projects\\telecom_scoring\\venv\\lib\\site-packages\\lightautoml\\ml_algo\\tuning\\optuna.py:231: FutureWarning: suggest_loguniform has been deprecated in v3.0.0. This feature will be removed in v6.0.0. See https://github.com/optuna/optuna/releases/tag/v3.0.0. Use :func:`~optuna.trial.Trial.suggest_float` instead.\n",
      "  trial_values[parameter] = getattr(trial, OPTUNA_DISTRIBUTIONS_MAP[SearchSpace.distribution_type])(\n",
      "e:\\projects\\telecom_scoring\\venv\\lib\\site-packages\\lightautoml\\ml_algo\\tuning\\optuna.py:231: FutureWarning: suggest_loguniform has been deprecated in v3.0.0. This feature will be removed in v6.0.0. See https://github.com/optuna/optuna/releases/tag/v3.0.0. Use :func:`~optuna.trial.Trial.suggest_float` instead.\n",
      "  trial_values[parameter] = getattr(trial, OPTUNA_DISTRIBUTIONS_MAP[SearchSpace.distribution_type])(\n",
      "e:\\projects\\telecom_scoring\\venv\\lib\\site-packages\\lightautoml\\ml_algo\\tuning\\optuna.py:231: FutureWarning: suggest_loguniform has been deprecated in v3.0.0. This feature will be removed in v6.0.0. See https://github.com/optuna/optuna/releases/tag/v3.0.0. Use :func:`~optuna.trial.Trial.suggest_float` instead.\n",
      "  trial_values[parameter] = getattr(trial, OPTUNA_DISTRIBUTIONS_MAP[SearchSpace.distribution_type])(\n",
      "e:\\projects\\telecom_scoring\\venv\\lib\\site-packages\\lightautoml\\ml_algo\\tuning\\optuna.py:231: FutureWarning: suggest_loguniform has been deprecated in v3.0.0. This feature will be removed in v6.0.0. See https://github.com/optuna/optuna/releases/tag/v3.0.0. Use :func:`~optuna.trial.Trial.suggest_float` instead.\n",
      "  trial_values[parameter] = getattr(trial, OPTUNA_DISTRIBUTIONS_MAP[SearchSpace.distribution_type])(\n",
      "e:\\projects\\telecom_scoring\\venv\\lib\\site-packages\\lightautoml\\ml_algo\\tuning\\optuna.py:231: FutureWarning: suggest_loguniform has been deprecated in v3.0.0. This feature will be removed in v6.0.0. See https://github.com/optuna/optuna/releases/tag/v3.0.0. Use :func:`~optuna.trial.Trial.suggest_float` instead.\n",
      "  trial_values[parameter] = getattr(trial, OPTUNA_DISTRIBUTIONS_MAP[SearchSpace.distribution_type])(\n",
      "e:\\projects\\telecom_scoring\\venv\\lib\\site-packages\\lightautoml\\ml_algo\\tuning\\optuna.py:231: FutureWarning: suggest_loguniform has been deprecated in v3.0.0. This feature will be removed in v6.0.0. See https://github.com/optuna/optuna/releases/tag/v3.0.0. Use :func:`~optuna.trial.Trial.suggest_float` instead.\n",
      "  trial_values[parameter] = getattr(trial, OPTUNA_DISTRIBUTIONS_MAP[SearchSpace.distribution_type])(\n",
      "e:\\projects\\telecom_scoring\\venv\\lib\\site-packages\\lightautoml\\ml_algo\\tuning\\optuna.py:231: FutureWarning: suggest_loguniform has been deprecated in v3.0.0. This feature will be removed in v6.0.0. See https://github.com/optuna/optuna/releases/tag/v3.0.0. Use :func:`~optuna.trial.Trial.suggest_float` instead.\n",
      "  trial_values[parameter] = getattr(trial, OPTUNA_DISTRIBUTIONS_MAP[SearchSpace.distribution_type])(\n",
      "e:\\projects\\telecom_scoring\\venv\\lib\\site-packages\\lightautoml\\ml_algo\\tuning\\optuna.py:231: FutureWarning: suggest_loguniform has been deprecated in v3.0.0. This feature will be removed in v6.0.0. See https://github.com/optuna/optuna/releases/tag/v3.0.0. Use :func:`~optuna.trial.Trial.suggest_float` instead.\n",
      "  trial_values[parameter] = getattr(trial, OPTUNA_DISTRIBUTIONS_MAP[SearchSpace.distribution_type])(\n",
      "e:\\projects\\telecom_scoring\\venv\\lib\\site-packages\\lightautoml\\ml_algo\\tuning\\optuna.py:231: FutureWarning: suggest_loguniform has been deprecated in v3.0.0. This feature will be removed in v6.0.0. See https://github.com/optuna/optuna/releases/tag/v3.0.0. Use :func:`~optuna.trial.Trial.suggest_float` instead.\n",
      "  trial_values[parameter] = getattr(trial, OPTUNA_DISTRIBUTIONS_MAP[SearchSpace.distribution_type])(\n",
      "e:\\projects\\telecom_scoring\\venv\\lib\\site-packages\\lightautoml\\ml_algo\\tuning\\optuna.py:231: FutureWarning: suggest_loguniform has been deprecated in v3.0.0. This feature will be removed in v6.0.0. See https://github.com/optuna/optuna/releases/tag/v3.0.0. Use :func:`~optuna.trial.Trial.suggest_float` instead.\n",
      "  trial_values[parameter] = getattr(trial, OPTUNA_DISTRIBUTIONS_MAP[SearchSpace.distribution_type])(\n",
      "e:\\projects\\telecom_scoring\\venv\\lib\\site-packages\\lightautoml\\ml_algo\\tuning\\optuna.py:231: FutureWarning: suggest_loguniform has been deprecated in v3.0.0. This feature will be removed in v6.0.0. See https://github.com/optuna/optuna/releases/tag/v3.0.0. Use :func:`~optuna.trial.Trial.suggest_float` instead.\n",
      "  trial_values[parameter] = getattr(trial, OPTUNA_DISTRIBUTIONS_MAP[SearchSpace.distribution_type])(\n",
      "e:\\projects\\telecom_scoring\\venv\\lib\\site-packages\\lightautoml\\ml_algo\\tuning\\optuna.py:231: FutureWarning: suggest_loguniform has been deprecated in v3.0.0. This feature will be removed in v6.0.0. See https://github.com/optuna/optuna/releases/tag/v3.0.0. Use :func:`~optuna.trial.Trial.suggest_float` instead.\n",
      "  trial_values[parameter] = getattr(trial, OPTUNA_DISTRIBUTIONS_MAP[SearchSpace.distribution_type])(\n",
      "e:\\projects\\telecom_scoring\\venv\\lib\\site-packages\\lightautoml\\ml_algo\\tuning\\optuna.py:231: FutureWarning: suggest_loguniform has been deprecated in v3.0.0. This feature will be removed in v6.0.0. See https://github.com/optuna/optuna/releases/tag/v3.0.0. Use :func:`~optuna.trial.Trial.suggest_float` instead.\n",
      "  trial_values[parameter] = getattr(trial, OPTUNA_DISTRIBUTIONS_MAP[SearchSpace.distribution_type])(\n",
      "e:\\projects\\telecom_scoring\\venv\\lib\\site-packages\\lightautoml\\ml_algo\\tuning\\optuna.py:231: FutureWarning: suggest_loguniform has been deprecated in v3.0.0. This feature will be removed in v6.0.0. See https://github.com/optuna/optuna/releases/tag/v3.0.0. Use :func:`~optuna.trial.Trial.suggest_float` instead.\n",
      "  trial_values[parameter] = getattr(trial, OPTUNA_DISTRIBUTIONS_MAP[SearchSpace.distribution_type])(\n",
      "e:\\projects\\telecom_scoring\\venv\\lib\\site-packages\\lightautoml\\ml_algo\\tuning\\optuna.py:231: FutureWarning: suggest_loguniform has been deprecated in v3.0.0. This feature will be removed in v6.0.0. See https://github.com/optuna/optuna/releases/tag/v3.0.0. Use :func:`~optuna.trial.Trial.suggest_float` instead.\n",
      "  trial_values[parameter] = getattr(trial, OPTUNA_DISTRIBUTIONS_MAP[SearchSpace.distribution_type])(\n",
      "e:\\projects\\telecom_scoring\\venv\\lib\\site-packages\\lightautoml\\ml_algo\\tuning\\optuna.py:231: FutureWarning: suggest_loguniform has been deprecated in v3.0.0. This feature will be removed in v6.0.0. See https://github.com/optuna/optuna/releases/tag/v3.0.0. Use :func:`~optuna.trial.Trial.suggest_float` instead.\n",
      "  trial_values[parameter] = getattr(trial, OPTUNA_DISTRIBUTIONS_MAP[SearchSpace.distribution_type])(\n",
      "e:\\projects\\telecom_scoring\\venv\\lib\\site-packages\\lightautoml\\ml_algo\\tuning\\optuna.py:231: FutureWarning: suggest_loguniform has been deprecated in v3.0.0. This feature will be removed in v6.0.0. See https://github.com/optuna/optuna/releases/tag/v3.0.0. Use :func:`~optuna.trial.Trial.suggest_float` instead.\n",
      "  trial_values[parameter] = getattr(trial, OPTUNA_DISTRIBUTIONS_MAP[SearchSpace.distribution_type])(\n",
      "e:\\projects\\telecom_scoring\\venv\\lib\\site-packages\\lightautoml\\ml_algo\\tuning\\optuna.py:231: FutureWarning: suggest_loguniform has been deprecated in v3.0.0. This feature will be removed in v6.0.0. See https://github.com/optuna/optuna/releases/tag/v3.0.0. Use :func:`~optuna.trial.Trial.suggest_float` instead.\n",
      "  trial_values[parameter] = getattr(trial, OPTUNA_DISTRIBUTIONS_MAP[SearchSpace.distribution_type])(\n",
      "e:\\projects\\telecom_scoring\\venv\\lib\\site-packages\\lightautoml\\ml_algo\\tuning\\optuna.py:231: FutureWarning: suggest_loguniform has been deprecated in v3.0.0. This feature will be removed in v6.0.0. See https://github.com/optuna/optuna/releases/tag/v3.0.0. Use :func:`~optuna.trial.Trial.suggest_float` instead.\n",
      "  trial_values[parameter] = getattr(trial, OPTUNA_DISTRIBUTIONS_MAP[SearchSpace.distribution_type])(\n",
      "e:\\projects\\telecom_scoring\\venv\\lib\\site-packages\\lightautoml\\ml_algo\\tuning\\optuna.py:231: FutureWarning: suggest_loguniform has been deprecated in v3.0.0. This feature will be removed in v6.0.0. See https://github.com/optuna/optuna/releases/tag/v3.0.0. Use :func:`~optuna.trial.Trial.suggest_float` instead.\n",
      "  trial_values[parameter] = getattr(trial, OPTUNA_DISTRIBUTIONS_MAP[SearchSpace.distribution_type])(\n",
      "e:\\projects\\telecom_scoring\\venv\\lib\\site-packages\\lightautoml\\ml_algo\\tuning\\optuna.py:231: FutureWarning: suggest_loguniform has been deprecated in v3.0.0. This feature will be removed in v6.0.0. See https://github.com/optuna/optuna/releases/tag/v3.0.0. Use :func:`~optuna.trial.Trial.suggest_float` instead.\n",
      "  trial_values[parameter] = getattr(trial, OPTUNA_DISTRIBUTIONS_MAP[SearchSpace.distribution_type])(\n",
      "e:\\projects\\telecom_scoring\\venv\\lib\\site-packages\\lightautoml\\ml_algo\\tuning\\optuna.py:231: FutureWarning: suggest_loguniform has been deprecated in v3.0.0. This feature will be removed in v6.0.0. See https://github.com/optuna/optuna/releases/tag/v3.0.0. Use :func:`~optuna.trial.Trial.suggest_float` instead.\n",
      "  trial_values[parameter] = getattr(trial, OPTUNA_DISTRIBUTIONS_MAP[SearchSpace.distribution_type])(\n",
      "e:\\projects\\telecom_scoring\\venv\\lib\\site-packages\\lightautoml\\ml_algo\\tuning\\optuna.py:231: FutureWarning: suggest_loguniform has been deprecated in v3.0.0. This feature will be removed in v6.0.0. See https://github.com/optuna/optuna/releases/tag/v3.0.0. Use :func:`~optuna.trial.Trial.suggest_float` instead.\n",
      "  trial_values[parameter] = getattr(trial, OPTUNA_DISTRIBUTIONS_MAP[SearchSpace.distribution_type])(\n",
      "e:\\projects\\telecom_scoring\\venv\\lib\\site-packages\\lightautoml\\ml_algo\\tuning\\optuna.py:231: FutureWarning: suggest_loguniform has been deprecated in v3.0.0. This feature will be removed in v6.0.0. See https://github.com/optuna/optuna/releases/tag/v3.0.0. Use :func:`~optuna.trial.Trial.suggest_float` instead.\n",
      "  trial_values[parameter] = getattr(trial, OPTUNA_DISTRIBUTIONS_MAP[SearchSpace.distribution_type])(\n",
      "e:\\projects\\telecom_scoring\\venv\\lib\\site-packages\\lightautoml\\ml_algo\\tuning\\optuna.py:231: FutureWarning: suggest_loguniform has been deprecated in v3.0.0. This feature will be removed in v6.0.0. See https://github.com/optuna/optuna/releases/tag/v3.0.0. Use :func:`~optuna.trial.Trial.suggest_float` instead.\n",
      "  trial_values[parameter] = getattr(trial, OPTUNA_DISTRIBUTIONS_MAP[SearchSpace.distribution_type])(\n",
      "e:\\projects\\telecom_scoring\\venv\\lib\\site-packages\\lightautoml\\ml_algo\\tuning\\optuna.py:231: FutureWarning: suggest_loguniform has been deprecated in v3.0.0. This feature will be removed in v6.0.0. See https://github.com/optuna/optuna/releases/tag/v3.0.0. Use :func:`~optuna.trial.Trial.suggest_float` instead.\n",
      "  trial_values[parameter] = getattr(trial, OPTUNA_DISTRIBUTIONS_MAP[SearchSpace.distribution_type])(\n",
      "e:\\projects\\telecom_scoring\\venv\\lib\\site-packages\\lightautoml\\ml_algo\\tuning\\optuna.py:231: FutureWarning: suggest_loguniform has been deprecated in v3.0.0. This feature will be removed in v6.0.0. See https://github.com/optuna/optuna/releases/tag/v3.0.0. Use :func:`~optuna.trial.Trial.suggest_float` instead.\n",
      "  trial_values[parameter] = getattr(trial, OPTUNA_DISTRIBUTIONS_MAP[SearchSpace.distribution_type])(\n",
      "e:\\projects\\telecom_scoring\\venv\\lib\\site-packages\\lightautoml\\ml_algo\\tuning\\optuna.py:231: FutureWarning: suggest_loguniform has been deprecated in v3.0.0. This feature will be removed in v6.0.0. See https://github.com/optuna/optuna/releases/tag/v3.0.0. Use :func:`~optuna.trial.Trial.suggest_float` instead.\n",
      "  trial_values[parameter] = getattr(trial, OPTUNA_DISTRIBUTIONS_MAP[SearchSpace.distribution_type])(\n",
      "e:\\projects\\telecom_scoring\\venv\\lib\\site-packages\\lightautoml\\ml_algo\\tuning\\optuna.py:231: FutureWarning: suggest_loguniform has been deprecated in v3.0.0. This feature will be removed in v6.0.0. See https://github.com/optuna/optuna/releases/tag/v3.0.0. Use :func:`~optuna.trial.Trial.suggest_float` instead.\n",
      "  trial_values[parameter] = getattr(trial, OPTUNA_DISTRIBUTIONS_MAP[SearchSpace.distribution_type])(\n",
      "e:\\projects\\telecom_scoring\\venv\\lib\\site-packages\\lightautoml\\ml_algo\\tuning\\optuna.py:231: FutureWarning: suggest_loguniform has been deprecated in v3.0.0. This feature will be removed in v6.0.0. See https://github.com/optuna/optuna/releases/tag/v3.0.0. Use :func:`~optuna.trial.Trial.suggest_float` instead.\n",
      "  trial_values[parameter] = getattr(trial, OPTUNA_DISTRIBUTIONS_MAP[SearchSpace.distribution_type])(\n",
      "e:\\projects\\telecom_scoring\\venv\\lib\\site-packages\\lightautoml\\ml_algo\\tuning\\optuna.py:231: FutureWarning: suggest_loguniform has been deprecated in v3.0.0. This feature will be removed in v6.0.0. See https://github.com/optuna/optuna/releases/tag/v3.0.0. Use :func:`~optuna.trial.Trial.suggest_float` instead.\n",
      "  trial_values[parameter] = getattr(trial, OPTUNA_DISTRIBUTIONS_MAP[SearchSpace.distribution_type])(\n",
      "e:\\projects\\telecom_scoring\\venv\\lib\\site-packages\\lightautoml\\ml_algo\\tuning\\optuna.py:231: FutureWarning: suggest_loguniform has been deprecated in v3.0.0. This feature will be removed in v6.0.0. See https://github.com/optuna/optuna/releases/tag/v3.0.0. Use :func:`~optuna.trial.Trial.suggest_float` instead.\n",
      "  trial_values[parameter] = getattr(trial, OPTUNA_DISTRIBUTIONS_MAP[SearchSpace.distribution_type])(\n",
      "e:\\projects\\telecom_scoring\\venv\\lib\\site-packages\\lightautoml\\ml_algo\\tuning\\optuna.py:231: FutureWarning: suggest_loguniform has been deprecated in v3.0.0. This feature will be removed in v6.0.0. See https://github.com/optuna/optuna/releases/tag/v3.0.0. Use :func:`~optuna.trial.Trial.suggest_float` instead.\n",
      "  trial_values[parameter] = getattr(trial, OPTUNA_DISTRIBUTIONS_MAP[SearchSpace.distribution_type])(\n",
      "e:\\projects\\telecom_scoring\\venv\\lib\\site-packages\\lightautoml\\ml_algo\\tuning\\optuna.py:231: FutureWarning: suggest_loguniform has been deprecated in v3.0.0. This feature will be removed in v6.0.0. See https://github.com/optuna/optuna/releases/tag/v3.0.0. Use :func:`~optuna.trial.Trial.suggest_float` instead.\n",
      "  trial_values[parameter] = getattr(trial, OPTUNA_DISTRIBUTIONS_MAP[SearchSpace.distribution_type])(\n",
      "e:\\projects\\telecom_scoring\\venv\\lib\\site-packages\\lightautoml\\ml_algo\\tuning\\optuna.py:231: FutureWarning: suggest_loguniform has been deprecated in v3.0.0. This feature will be removed in v6.0.0. See https://github.com/optuna/optuna/releases/tag/v3.0.0. Use :func:`~optuna.trial.Trial.suggest_float` instead.\n",
      "  trial_values[parameter] = getattr(trial, OPTUNA_DISTRIBUTIONS_MAP[SearchSpace.distribution_type])(\n",
      "e:\\projects\\telecom_scoring\\venv\\lib\\site-packages\\lightautoml\\ml_algo\\tuning\\optuna.py:231: FutureWarning: suggest_loguniform has been deprecated in v3.0.0. This feature will be removed in v6.0.0. See https://github.com/optuna/optuna/releases/tag/v3.0.0. Use :func:`~optuna.trial.Trial.suggest_float` instead.\n",
      "  trial_values[parameter] = getattr(trial, OPTUNA_DISTRIBUTIONS_MAP[SearchSpace.distribution_type])(\n",
      "e:\\projects\\telecom_scoring\\venv\\lib\\site-packages\\lightautoml\\ml_algo\\tuning\\optuna.py:231: FutureWarning: suggest_loguniform has been deprecated in v3.0.0. This feature will be removed in v6.0.0. See https://github.com/optuna/optuna/releases/tag/v3.0.0. Use :func:`~optuna.trial.Trial.suggest_float` instead.\n",
      "  trial_values[parameter] = getattr(trial, OPTUNA_DISTRIBUTIONS_MAP[SearchSpace.distribution_type])(\n",
      "e:\\projects\\telecom_scoring\\venv\\lib\\site-packages\\lightautoml\\ml_algo\\tuning\\optuna.py:231: FutureWarning: suggest_loguniform has been deprecated in v3.0.0. This feature will be removed in v6.0.0. See https://github.com/optuna/optuna/releases/tag/v3.0.0. Use :func:`~optuna.trial.Trial.suggest_float` instead.\n",
      "  trial_values[parameter] = getattr(trial, OPTUNA_DISTRIBUTIONS_MAP[SearchSpace.distribution_type])(\n",
      "e:\\projects\\telecom_scoring\\venv\\lib\\site-packages\\lightautoml\\ml_algo\\tuning\\optuna.py:231: FutureWarning: suggest_loguniform has been deprecated in v3.0.0. This feature will be removed in v6.0.0. See https://github.com/optuna/optuna/releases/tag/v3.0.0. Use :func:`~optuna.trial.Trial.suggest_float` instead.\n",
      "  trial_values[parameter] = getattr(trial, OPTUNA_DISTRIBUTIONS_MAP[SearchSpace.distribution_type])(\n",
      "e:\\projects\\telecom_scoring\\venv\\lib\\site-packages\\lightautoml\\ml_algo\\tuning\\optuna.py:231: FutureWarning: suggest_loguniform has been deprecated in v3.0.0. This feature will be removed in v6.0.0. See https://github.com/optuna/optuna/releases/tag/v3.0.0. Use :func:`~optuna.trial.Trial.suggest_float` instead.\n",
      "  trial_values[parameter] = getattr(trial, OPTUNA_DISTRIBUTIONS_MAP[SearchSpace.distribution_type])(\n",
      "e:\\projects\\telecom_scoring\\venv\\lib\\site-packages\\lightautoml\\ml_algo\\tuning\\optuna.py:231: FutureWarning: suggest_loguniform has been deprecated in v3.0.0. This feature will be removed in v6.0.0. See https://github.com/optuna/optuna/releases/tag/v3.0.0. Use :func:`~optuna.trial.Trial.suggest_float` instead.\n",
      "  trial_values[parameter] = getattr(trial, OPTUNA_DISTRIBUTIONS_MAP[SearchSpace.distribution_type])(\n",
      "e:\\projects\\telecom_scoring\\venv\\lib\\site-packages\\lightautoml\\ml_algo\\tuning\\optuna.py:231: FutureWarning: suggest_loguniform has been deprecated in v3.0.0. This feature will be removed in v6.0.0. See https://github.com/optuna/optuna/releases/tag/v3.0.0. Use :func:`~optuna.trial.Trial.suggest_float` instead.\n",
      "  trial_values[parameter] = getattr(trial, OPTUNA_DISTRIBUTIONS_MAP[SearchSpace.distribution_type])(\n",
      "e:\\projects\\telecom_scoring\\venv\\lib\\site-packages\\lightautoml\\ml_algo\\tuning\\optuna.py:231: FutureWarning: suggest_loguniform has been deprecated in v3.0.0. This feature will be removed in v6.0.0. See https://github.com/optuna/optuna/releases/tag/v3.0.0. Use :func:`~optuna.trial.Trial.suggest_float` instead.\n",
      "  trial_values[parameter] = getattr(trial, OPTUNA_DISTRIBUTIONS_MAP[SearchSpace.distribution_type])(\n",
      "e:\\projects\\telecom_scoring\\venv\\lib\\site-packages\\lightautoml\\ml_algo\\tuning\\optuna.py:231: FutureWarning: suggest_loguniform has been deprecated in v3.0.0. This feature will be removed in v6.0.0. See https://github.com/optuna/optuna/releases/tag/v3.0.0. Use :func:`~optuna.trial.Trial.suggest_float` instead.\n",
      "  trial_values[parameter] = getattr(trial, OPTUNA_DISTRIBUTIONS_MAP[SearchSpace.distribution_type])(\n",
      "e:\\projects\\telecom_scoring\\venv\\lib\\site-packages\\lightautoml\\ml_algo\\tuning\\optuna.py:231: FutureWarning: suggest_loguniform has been deprecated in v3.0.0. This feature will be removed in v6.0.0. See https://github.com/optuna/optuna/releases/tag/v3.0.0. Use :func:`~optuna.trial.Trial.suggest_float` instead.\n",
      "  trial_values[parameter] = getattr(trial, OPTUNA_DISTRIBUTIONS_MAP[SearchSpace.distribution_type])(\n",
      "e:\\projects\\telecom_scoring\\venv\\lib\\site-packages\\lightautoml\\ml_algo\\tuning\\optuna.py:231: FutureWarning: suggest_loguniform has been deprecated in v3.0.0. This feature will be removed in v6.0.0. See https://github.com/optuna/optuna/releases/tag/v3.0.0. Use :func:`~optuna.trial.Trial.suggest_float` instead.\n",
      "  trial_values[parameter] = getattr(trial, OPTUNA_DISTRIBUTIONS_MAP[SearchSpace.distribution_type])(\n",
      "e:\\projects\\telecom_scoring\\venv\\lib\\site-packages\\lightautoml\\ml_algo\\tuning\\optuna.py:231: FutureWarning: suggest_loguniform has been deprecated in v3.0.0. This feature will be removed in v6.0.0. See https://github.com/optuna/optuna/releases/tag/v3.0.0. Use :func:`~optuna.trial.Trial.suggest_float` instead.\n",
      "  trial_values[parameter] = getattr(trial, OPTUNA_DISTRIBUTIONS_MAP[SearchSpace.distribution_type])(\n",
      "e:\\projects\\telecom_scoring\\venv\\lib\\site-packages\\lightautoml\\ml_algo\\tuning\\optuna.py:231: FutureWarning: suggest_loguniform has been deprecated in v3.0.0. This feature will be removed in v6.0.0. See https://github.com/optuna/optuna/releases/tag/v3.0.0. Use :func:`~optuna.trial.Trial.suggest_float` instead.\n",
      "  trial_values[parameter] = getattr(trial, OPTUNA_DISTRIBUTIONS_MAP[SearchSpace.distribution_type])(\n",
      "e:\\projects\\telecom_scoring\\venv\\lib\\site-packages\\lightautoml\\ml_algo\\tuning\\optuna.py:231: FutureWarning: suggest_loguniform has been deprecated in v3.0.0. This feature will be removed in v6.0.0. See https://github.com/optuna/optuna/releases/tag/v3.0.0. Use :func:`~optuna.trial.Trial.suggest_float` instead.\n",
      "  trial_values[parameter] = getattr(trial, OPTUNA_DISTRIBUTIONS_MAP[SearchSpace.distribution_type])(\n",
      "e:\\projects\\telecom_scoring\\venv\\lib\\site-packages\\lightautoml\\ml_algo\\tuning\\optuna.py:231: FutureWarning: suggest_loguniform has been deprecated in v3.0.0. This feature will be removed in v6.0.0. See https://github.com/optuna/optuna/releases/tag/v3.0.0. Use :func:`~optuna.trial.Trial.suggest_float` instead.\n",
      "  trial_values[parameter] = getattr(trial, OPTUNA_DISTRIBUTIONS_MAP[SearchSpace.distribution_type])(\n",
      "e:\\projects\\telecom_scoring\\venv\\lib\\site-packages\\lightautoml\\ml_algo\\tuning\\optuna.py:231: FutureWarning: suggest_loguniform has been deprecated in v3.0.0. This feature will be removed in v6.0.0. See https://github.com/optuna/optuna/releases/tag/v3.0.0. Use :func:`~optuna.trial.Trial.suggest_float` instead.\n",
      "  trial_values[parameter] = getattr(trial, OPTUNA_DISTRIBUTIONS_MAP[SearchSpace.distribution_type])(\n",
      "e:\\projects\\telecom_scoring\\venv\\lib\\site-packages\\lightautoml\\ml_algo\\tuning\\optuna.py:231: FutureWarning: suggest_loguniform has been deprecated in v3.0.0. This feature will be removed in v6.0.0. See https://github.com/optuna/optuna/releases/tag/v3.0.0. Use :func:`~optuna.trial.Trial.suggest_float` instead.\n",
      "  trial_values[parameter] = getattr(trial, OPTUNA_DISTRIBUTIONS_MAP[SearchSpace.distribution_type])(\n",
      "e:\\projects\\telecom_scoring\\venv\\lib\\site-packages\\lightautoml\\ml_algo\\tuning\\optuna.py:231: FutureWarning: suggest_loguniform has been deprecated in v3.0.0. This feature will be removed in v6.0.0. See https://github.com/optuna/optuna/releases/tag/v3.0.0. Use :func:`~optuna.trial.Trial.suggest_float` instead.\n",
      "  trial_values[parameter] = getattr(trial, OPTUNA_DISTRIBUTIONS_MAP[SearchSpace.distribution_type])(\n",
      "e:\\projects\\telecom_scoring\\venv\\lib\\site-packages\\lightautoml\\ml_algo\\tuning\\optuna.py:231: FutureWarning: suggest_loguniform has been deprecated in v3.0.0. This feature will be removed in v6.0.0. See https://github.com/optuna/optuna/releases/tag/v3.0.0. Use :func:`~optuna.trial.Trial.suggest_float` instead.\n",
      "  trial_values[parameter] = getattr(trial, OPTUNA_DISTRIBUTIONS_MAP[SearchSpace.distribution_type])(\n",
      "e:\\projects\\telecom_scoring\\venv\\lib\\site-packages\\lightautoml\\ml_algo\\tuning\\optuna.py:231: FutureWarning: suggest_loguniform has been deprecated in v3.0.0. This feature will be removed in v6.0.0. See https://github.com/optuna/optuna/releases/tag/v3.0.0. Use :func:`~optuna.trial.Trial.suggest_float` instead.\n",
      "  trial_values[parameter] = getattr(trial, OPTUNA_DISTRIBUTIONS_MAP[SearchSpace.distribution_type])(\n",
      "e:\\projects\\telecom_scoring\\venv\\lib\\site-packages\\lightautoml\\ml_algo\\tuning\\optuna.py:231: FutureWarning: suggest_loguniform has been deprecated in v3.0.0. This feature will be removed in v6.0.0. See https://github.com/optuna/optuna/releases/tag/v3.0.0. Use :func:`~optuna.trial.Trial.suggest_float` instead.\n",
      "  trial_values[parameter] = getattr(trial, OPTUNA_DISTRIBUTIONS_MAP[SearchSpace.distribution_type])(\n",
      "e:\\projects\\telecom_scoring\\venv\\lib\\site-packages\\lightautoml\\ml_algo\\tuning\\optuna.py:231: FutureWarning: suggest_loguniform has been deprecated in v3.0.0. This feature will be removed in v6.0.0. See https://github.com/optuna/optuna/releases/tag/v3.0.0. Use :func:`~optuna.trial.Trial.suggest_float` instead.\n",
      "  trial_values[parameter] = getattr(trial, OPTUNA_DISTRIBUTIONS_MAP[SearchSpace.distribution_type])(\n",
      "e:\\projects\\telecom_scoring\\venv\\lib\\site-packages\\lightautoml\\ml_algo\\tuning\\optuna.py:231: FutureWarning: suggest_loguniform has been deprecated in v3.0.0. This feature will be removed in v6.0.0. See https://github.com/optuna/optuna/releases/tag/v3.0.0. Use :func:`~optuna.trial.Trial.suggest_float` instead.\n",
      "  trial_values[parameter] = getattr(trial, OPTUNA_DISTRIBUTIONS_MAP[SearchSpace.distribution_type])(\n",
      "e:\\projects\\telecom_scoring\\venv\\lib\\site-packages\\lightautoml\\ml_algo\\tuning\\optuna.py:231: FutureWarning: suggest_loguniform has been deprecated in v3.0.0. This feature will be removed in v6.0.0. See https://github.com/optuna/optuna/releases/tag/v3.0.0. Use :func:`~optuna.trial.Trial.suggest_float` instead.\n",
      "  trial_values[parameter] = getattr(trial, OPTUNA_DISTRIBUTIONS_MAP[SearchSpace.distribution_type])(\n",
      "e:\\projects\\telecom_scoring\\venv\\lib\\site-packages\\lightautoml\\ml_algo\\tuning\\optuna.py:231: FutureWarning: suggest_loguniform has been deprecated in v3.0.0. This feature will be removed in v6.0.0. See https://github.com/optuna/optuna/releases/tag/v3.0.0. Use :func:`~optuna.trial.Trial.suggest_float` instead.\n",
      "  trial_values[parameter] = getattr(trial, OPTUNA_DISTRIBUTIONS_MAP[SearchSpace.distribution_type])(\n",
      "e:\\projects\\telecom_scoring\\venv\\lib\\site-packages\\lightautoml\\ml_algo\\tuning\\optuna.py:231: FutureWarning: suggest_loguniform has been deprecated in v3.0.0. This feature will be removed in v6.0.0. See https://github.com/optuna/optuna/releases/tag/v3.0.0. Use :func:`~optuna.trial.Trial.suggest_float` instead.\n",
      "  trial_values[parameter] = getattr(trial, OPTUNA_DISTRIBUTIONS_MAP[SearchSpace.distribution_type])(\n",
      "e:\\projects\\telecom_scoring\\venv\\lib\\site-packages\\lightautoml\\ml_algo\\tuning\\optuna.py:231: FutureWarning: suggest_loguniform has been deprecated in v3.0.0. This feature will be removed in v6.0.0. See https://github.com/optuna/optuna/releases/tag/v3.0.0. Use :func:`~optuna.trial.Trial.suggest_float` instead.\n",
      "  trial_values[parameter] = getattr(trial, OPTUNA_DISTRIBUTIONS_MAP[SearchSpace.distribution_type])(\n",
      "e:\\projects\\telecom_scoring\\venv\\lib\\site-packages\\lightautoml\\ml_algo\\tuning\\optuna.py:231: FutureWarning: suggest_loguniform has been deprecated in v3.0.0. This feature will be removed in v6.0.0. See https://github.com/optuna/optuna/releases/tag/v3.0.0. Use :func:`~optuna.trial.Trial.suggest_float` instead.\n",
      "  trial_values[parameter] = getattr(trial, OPTUNA_DISTRIBUTIONS_MAP[SearchSpace.distribution_type])(\n",
      "e:\\projects\\telecom_scoring\\venv\\lib\\site-packages\\lightautoml\\ml_algo\\tuning\\optuna.py:231: FutureWarning: suggest_loguniform has been deprecated in v3.0.0. This feature will be removed in v6.0.0. See https://github.com/optuna/optuna/releases/tag/v3.0.0. Use :func:`~optuna.trial.Trial.suggest_float` instead.\n",
      "  trial_values[parameter] = getattr(trial, OPTUNA_DISTRIBUTIONS_MAP[SearchSpace.distribution_type])(\n",
      "e:\\projects\\telecom_scoring\\venv\\lib\\site-packages\\lightautoml\\ml_algo\\tuning\\optuna.py:231: FutureWarning: suggest_loguniform has been deprecated in v3.0.0. This feature will be removed in v6.0.0. See https://github.com/optuna/optuna/releases/tag/v3.0.0. Use :func:`~optuna.trial.Trial.suggest_float` instead.\n",
      "  trial_values[parameter] = getattr(trial, OPTUNA_DISTRIBUTIONS_MAP[SearchSpace.distribution_type])(\n",
      "e:\\projects\\telecom_scoring\\venv\\lib\\site-packages\\lightautoml\\ml_algo\\tuning\\optuna.py:231: FutureWarning: suggest_loguniform has been deprecated in v3.0.0. This feature will be removed in v6.0.0. See https://github.com/optuna/optuna/releases/tag/v3.0.0. Use :func:`~optuna.trial.Trial.suggest_float` instead.\n",
      "  trial_values[parameter] = getattr(trial, OPTUNA_DISTRIBUTIONS_MAP[SearchSpace.distribution_type])(\n",
      "e:\\projects\\telecom_scoring\\venv\\lib\\site-packages\\lightautoml\\ml_algo\\tuning\\optuna.py:231: FutureWarning: suggest_loguniform has been deprecated in v3.0.0. This feature will be removed in v6.0.0. See https://github.com/optuna/optuna/releases/tag/v3.0.0. Use :func:`~optuna.trial.Trial.suggest_float` instead.\n",
      "  trial_values[parameter] = getattr(trial, OPTUNA_DISTRIBUTIONS_MAP[SearchSpace.distribution_type])(\n"
     ]
    },
    {
     "name": "stdout",
     "output_type": "stream",
     "text": [
      "[21:41:27] Hyperparameters optimization for \u001B[1mLvl_0_Pipe_1_Mod_3_Tuned_CatBoost\u001B[0m completed\n",
      "[21:41:27] Start fitting \u001B[1mLvl_0_Pipe_1_Mod_3_Tuned_CatBoost\u001B[0m ...\n",
      "[21:41:30] Fitting \u001B[1mLvl_0_Pipe_1_Mod_3_Tuned_CatBoost\u001B[0m finished. score = \u001B[1m0.7177198578969726\u001B[0m\n",
      "[21:41:30] \u001B[1mLvl_0_Pipe_1_Mod_3_Tuned_CatBoost\u001B[0m fitting and predicting completed\n",
      "[21:41:30] Time left 173.79 secs\n",
      "\n",
      "[21:41:30] \u001B[1mLayer 1 training completed.\u001B[0m\n",
      "\n",
      "[21:41:30] Blending: optimization starts with equal weights and score \u001B[1m0.7279366921813573\u001B[0m\n",
      "[21:41:30] Blending: iteration \u001B[1m0\u001B[0m: score = \u001B[1m0.7340656293037439\u001B[0m, weights = \u001B[1m[0.07356893 0.         0.8741106  0.         0.0523205 ]\u001B[0m\n",
      "[21:41:30] Blending: iteration \u001B[1m1\u001B[0m: score = \u001B[1m0.7340656293037439\u001B[0m, weights = \u001B[1m[0.07356893 0.         0.8741106  0.         0.0523205 ]\u001B[0m\n",
      "[21:41:30] Blending: no score update. Terminated\n",
      "\n",
      "[21:41:30] \u001B[1mAutoml preset training completed in 126.31 seconds\u001B[0m\n",
      "\n",
      "[21:41:30] Model description:\n",
      "Final prediction for new objects (level 0) = \n",
      "\t 0.07357 * (5 averaged models Lvl_0_Pipe_0_Mod_0_LinearL2) +\n",
      "\t 0.87411 * (5 averaged models Lvl_0_Pipe_1_Mod_1_Tuned_LightGBM) +\n",
      "\t 0.05232 * (5 averaged models Lvl_0_Pipe_1_Mod_3_Tuned_CatBoost) \n",
      "\n"
     ]
    }
   ],
   "source": [
    "oof_pred = model.fit_predict(df_train, roles=roles, verbose=1)"
   ]
  },
  {
   "cell_type": "code",
   "execution_count": 138,
   "metadata": {
    "pycharm": {
     "name": "#%%\n"
    }
   },
   "outputs": [
    {
     "data": {
      "text/plain": [
       "0.7353299999188292"
      ]
     },
     "execution_count": 138,
     "metadata": {},
     "output_type": "execute_result"
    }
   ],
   "source": [
    "oof_res = pd.DataFrame({'contract_id': df_train['contract_id'], 'prob': oof_pred.data.reshape(-1)})\n",
    "oof_res['blocked'] = oof_res['prob'].apply(lambda x: 1 if x > 0.11 else 0)\n",
    "recall_score(df_train['blocked'].values, oof_res['blocked'].values, average='macro')"
   ]
  },
  {
   "cell_type": "code",
   "execution_count": 139,
   "metadata": {
    "pycharm": {
     "name": "#%%\n"
    }
   },
   "outputs": [],
   "source": [
    "df_test['prob'] = model.predict(df_test).data.reshape(-1)\n",
    "df_test['blocked'] = df_test['prob'].apply(lambda x: 1 if x > 0.11 else 0)"
   ]
  },
  {
   "cell_type": "code",
   "execution_count": 140,
   "metadata": {
    "pycharm": {
     "name": "#%%\n"
    }
   },
   "outputs": [
    {
     "data": {
      "text/plain": [
       "<AxesSubplot: >"
      ]
     },
     "execution_count": 140,
     "metadata": {},
     "output_type": "execute_result"
    },
    {
     "data": {
      "image/png": "[encoded data removed]",
      "text/plain": [
       "<Figure size 640x480 with 1 Axes>"
      ]
     },
     "metadata": {},
     "output_type": "display_data"
    }
   ],
   "source": [
    "df_test['blocked'].hist()"
   ]
  },
  {
   "cell_type": "code",
   "execution_count": 141,
   "metadata": {
    "pycharm": {
     "name": "#%%\n"
    }
   },
   "outputs": [],
   "source": [
    "df_test[['contract_id', 'blocked']].to_csv('subs/submission_4.csv', index=False)"
   ]
  },
  {
   "cell_type": "code",
   "execution_count": 142,
   "metadata": {
    "pycharm": {
     "name": "#%%\n"
    }
   },
   "outputs": [],
   "source": [
    "feature_importance = model.get_feature_scores()"
   ]
  },
  {
   "cell_type": "code",
   "execution_count": 143,
   "metadata": {
    "pycharm": {
     "name": "#%%\n"
    }
   },
   "outputs": [
    {
     "data": {
      "text/plain": [
       "['log_42',\n",
       " 'log_37',\n",
       " 'log_18',\n",
       " 'log_3',\n",
       " 'log_33',\n",
       " 'log_88',\n",
       " 'log_94',\n",
       " 'log_69',\n",
       " 'log_71',\n",
       " 'log_66']"
      ]
     },
     "execution_count": 143,
     "metadata": {},
     "output_type": "execute_result"
    }
   ],
   "source": [
    "list(feature_importance[feature_importance['Importance'] == 0]['Feature'])"
   ]
  },
  {
   "cell_type": "code",
   "execution_count": 23,
   "metadata": {
    "colab": {
     "base_uri": "https://localhost:8080/"
    },
    "id": "OaySnwRzejpc",
    "outputId": "0dfc1bde-b449-4c72-fce4-73ef92378e90",
    "pycharm": {
     "name": "#%%\n"
    }
   },
   "outputs": [
    {
     "name": "stdout",
     "output_type": "stream",
     "text": [
      "Recall score: 0.49873817034700313\n"
     ]
    }
   ],
   "source": [
    "from sklearn.metrics import recall_score\n",
    "\n",
    "print(\"Recall score:\", recall_score(y_test, pred, average='macro'))"
   ]
  },
  {
   "cell_type": "code",
   "execution_count": null,
   "metadata": {
    "pycharm": {
     "name": "#%%\n"
    }
   },
   "outputs": [],
   "source": []
  }
 ],
 "metadata": {
  "colab": {
   "name": "Ситилинк_baseline.ipynb",
   "provenance": []
  },
  "kernelspec": {
   "display_name": "Python 3.8.10 ('venv': venv)",
   "language": "python",
   "name": "python3"
  },
  "language_info": {
   "codemirror_mode": {
    "name": "ipython",
    "version": 3
   },
   "file_extension": ".py",
   "mimetype": "text/x-python",
   "name": "python",
   "nbconvert_exporter": "python",
   "pygments_lexer": "ipython3",
   "version": "3.8.10"
  },
  "vscode": {
   "interpreter": {
    "hash": "5b9faca78def856e2003280d9018eb361518ebe965f69f879ce8f9ce6cd54977"
   }
  }
 },
 "nbformat": 4,
 "nbformat_minor": 0
}